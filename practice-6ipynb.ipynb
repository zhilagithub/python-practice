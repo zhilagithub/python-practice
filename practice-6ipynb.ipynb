{
 "cells": [
  {
   "cell_type": "code",
   "execution_count": 4,
   "id": "40138fc3",
   "metadata": {},
   "outputs": [
    {
     "name": "stdout",
     "output_type": "stream",
     "text": [
      "enter your grade: 76\n",
      "this is B\n"
     ]
    }
   ],
   "source": [
    "grade = int(input(\"enter your grade: \"))\n",
    "\n",
    "if grade >= 90:\n",
    "    print(\"this is A\")\n",
    "elif grade >= 70 and grade <= 80:\n",
    "    print(\"this is B\")"
   ]
  },
  {
   "cell_type": "code",
   "execution_count": 5,
   "id": "2867202d",
   "metadata": {},
   "outputs": [
    {
     "name": "stdout",
     "output_type": "stream",
     "text": [
      "a b "
     ]
    }
   ],
   "source": [
    "print(\"a\",\"b\",end=\" \")\n"
   ]
  },
  {
   "cell_type": "code",
   "execution_count": 28,
   "id": "448cc442",
   "metadata": {},
   "outputs": [
    {
     "name": "stdout",
     "output_type": "stream",
     "text": [
      "Hello world "
     ]
    }
   ],
   "source": [
    "print(\"Hello\",\"world\",end=\" \")"
   ]
  },
  {
   "cell_type": "code",
   "execution_count": 6,
   "id": "0f01f26a",
   "metadata": {},
   "outputs": [
    {
     "name": "stdout",
     "output_type": "stream",
     "text": [
      "a b\n"
     ]
    }
   ],
   "source": [
    "print(\"a\",\"b\",sep=\" \")"
   ]
  },
  {
   "cell_type": "code",
   "execution_count": 27,
   "id": "f637a674",
   "metadata": {},
   "outputs": [
    {
     "name": "stdout",
     "output_type": "stream",
     "text": [
      "Hello world\n"
     ]
    }
   ],
   "source": [
    "print(\"Hello\",\"world\",sep=\" \")\n"
   ]
  },
  {
   "cell_type": "code",
   "execution_count": 29,
   "id": "9fcc4bc1",
   "metadata": {},
   "outputs": [
    {
     "name": "stdout",
     "output_type": "stream",
     "text": [
      "Hello world\n"
     ]
    }
   ],
   "source": [
    "### using f string\n",
    "\n",
    "print(f\"Hello {'world'}\")\n"
   ]
  },
  {
   "cell_type": "code",
   "execution_count": 30,
   "id": "c362fd29",
   "metadata": {},
   "outputs": [
    {
     "name": "stdout",
     "output_type": "stream",
     "text": [
      "Hello world\n"
     ]
    }
   ],
   "source": [
    "print(\"Hello\" + \" \" + \"world\")\n"
   ]
  },
  {
   "cell_type": "code",
   "execution_count": null,
   "id": "f7631938",
   "metadata": {},
   "outputs": [],
   "source": []
  },
  {
   "cell_type": "code",
   "execution_count": 7,
   "id": "5257b296",
   "metadata": {},
   "outputs": [
    {
     "name": "stdout",
     "output_type": "stream",
     "text": [
      "a, b\n"
     ]
    }
   ],
   "source": [
    "print(\"a\",\"b\",sep=\", \")"
   ]
  },
  {
   "cell_type": "code",
   "execution_count": 8,
   "id": "3c7ccf6e",
   "metadata": {},
   "outputs": [
    {
     "name": "stdout",
     "output_type": "stream",
     "text": [
      "a b, "
     ]
    }
   ],
   "source": [
    "print(\"a\",\"b\",end=\", \")"
   ]
  },
  {
   "cell_type": "code",
   "execution_count": 17,
   "id": "215703fb",
   "metadata": {},
   "outputs": [
    {
     "name": "stdout",
     "output_type": "stream",
     "text": [
      "a\n",
      " b\n"
     ]
    }
   ],
   "source": [
    "print(\"a\\n\",\"b\")"
   ]
  },
  {
   "cell_type": "code",
   "execution_count": 19,
   "id": "81bc06d8",
   "metadata": {},
   "outputs": [
    {
     "data": {
      "text/plain": [
       "1"
      ]
     },
     "execution_count": 19,
     "metadata": {},
     "output_type": "execute_result"
    }
   ],
   "source": [
    "int(\"1\")\n",
    "    "
   ]
  },
  {
   "cell_type": "code",
   "execution_count": 20,
   "id": "0f97e79b",
   "metadata": {},
   "outputs": [
    {
     "name": "stdout",
     "output_type": "stream",
     "text": [
      "zhila 3%2\n"
     ]
    }
   ],
   "source": [
    "print(\"zhila\",\"3%2\")"
   ]
  },
  {
   "cell_type": "code",
   "execution_count": 21,
   "id": "a05fda38",
   "metadata": {},
   "outputs": [
    {
     "ename": "TypeError",
     "evalue": "bad operand type for unary +: 'str'",
     "output_type": "error",
     "traceback": [
      "\u001b[0;31m---------------------------------------------------------------------------\u001b[0m",
      "\u001b[0;31mTypeError\u001b[0m                                 Traceback (most recent call last)",
      "Cell \u001b[0;32mIn[21], line 1\u001b[0m\n\u001b[0;32m----> 1\u001b[0m \u001b[38;5;28mprint\u001b[39m(\u001b[38;5;124m\"\u001b[39m\u001b[38;5;124m4\u001b[39m\u001b[38;5;124m%\u001b[39m\u001b[38;5;124m2\u001b[39m\u001b[38;5;124m\"\u001b[39m,\u001b[38;5;241;43m+\u001b[39;49m\u001b[38;5;124;43m\"\u001b[39;49m\u001b[38;5;124;43m4\u001b[39;49m\u001b[38;5;124;43m%\u001b[39;49m\u001b[38;5;124;43m2\u001b[39;49m\u001b[38;5;124;43m\"\u001b[39;49m)\n",
      "\u001b[0;31mTypeError\u001b[0m: bad operand type for unary +: 'str'"
     ]
    }
   ],
   "source": [
    "print(\"4%2\",+\"4%2\")"
   ]
  },
  {
   "cell_type": "code",
   "execution_count": 22,
   "id": "a946cc85",
   "metadata": {},
   "outputs": [
    {
     "name": "stdout",
     "output_type": "stream",
     "text": [
      "Hello world\n"
     ]
    }
   ],
   "source": [
    "str1 = \"Hello\"\n",
    "str2 = \"world\"\n",
    "result = str1 + \" \" + str2\n",
    "print(result)  # Output: \"Hello world\"\n",
    "\n"
   ]
  },
  {
   "cell_type": "code",
   "execution_count": 23,
   "id": "ff6ef01b",
   "metadata": {},
   "outputs": [
    {
     "name": "stdout",
     "output_type": "stream",
     "text": [
      "Helloworld\n"
     ]
    }
   ],
   "source": [
    "print(\"Hello\"+\"world\")"
   ]
  },
  {
   "cell_type": "code",
   "execution_count": 26,
   "id": "a2639296",
   "metadata": {},
   "outputs": [
    {
     "name": "stdout",
     "output_type": "stream",
     "text": [
      "Hello world\n"
     ]
    }
   ],
   "source": [
    "print(\"Hello\",\"world\",sep=\" \")"
   ]
  },
  {
   "cell_type": "code",
   "execution_count": 31,
   "id": "3cbe8aa6",
   "metadata": {},
   "outputs": [
    {
     "name": "stdout",
     "output_type": "stream",
     "text": [
      "What is your favorite movie? titanic\n",
      "What is your favorite singer? hayedeh\n",
      "Your favorite movie is titanic, and your favorite singer is hayedeh.\n"
     ]
    }
   ],
   "source": [
    "fav_movie = input(\"What is your favorite movie? \")\n",
    "fav_singer = input(\"What is your favorite singer? \")\n",
    "print(f\"Your favorite movie is {fav_movie}, and your favorite singer is {fav_singer}.\")\n"
   ]
  },
  {
   "cell_type": "code",
   "execution_count": null,
   "id": "f5bc7a34",
   "metadata": {},
   "outputs": [],
   "source": [
    "#### loops #####"
   ]
  },
  {
   "cell_type": "code",
   "execution_count": 7,
   "id": "099dd975",
   "metadata": {},
   "outputs": [
    {
     "name": "stdout",
     "output_type": "stream",
     "text": [
      "zhila mofidi \n",
      "celine sadeghi \n"
     ]
    }
   ],
   "source": [
    "# one way\n",
    "\n",
    "full_names=[[\"zhila\",\"mofidi\"],[\"celine\",\"sadeghi\"]]\n",
    "for first_name in full_names:\n",
    "    for last_name in first_name:\n",
    "        print(last_name,end=\" \")\n",
    "    print()"
   ]
  },
  {
   "cell_type": "code",
   "execution_count": null,
   "id": "23f95977",
   "metadata": {},
   "outputs": [],
   "source": [
    "# second way\n",
    "\n",
    "full_names=[[\"zhila\",\"mofidi\"],[\"celine\",\"sadeghi\"]]\n",
    "names_list = [f\"{first} {last}\" for first, last in full_names]\n",
    "for name in names_list:\n",
    "    print(name)"
   ]
  },
  {
   "cell_type": "code",
   "execution_count": null,
   "id": "2875bb4a",
   "metadata": {},
   "outputs": [],
   "source": [
    "#third way\n",
    "\n",
    "full_names= [[\"zhila\",\"mofidi\"],[\"celine\",\"sadeghi\"]]\n",
    "name_list =[f\"{a}  {b}\"for a,b in full_names ]\n",
    "for c in name_list:\n",
    "    print(c)\n",
    "            \n",
    "            "
   ]
  },
  {
   "cell_type": "code",
   "execution_count": null,
   "id": "c74e4bb5",
   "metadata": {},
   "outputs": [],
   "source": []
  },
  {
   "cell_type": "code",
   "execution_count": 1,
   "id": "f3be75d6",
   "metadata": {},
   "outputs": [
    {
     "name": "stdout",
     "output_type": "stream",
     "text": [
      "4\n",
      "4\n"
     ]
    }
   ],
   "source": [
    "x=3\n",
    "y=4\n",
    "if not(False):\n",
    "    while x<=y:\n",
    "        print(y)\n",
    "        x+=1\n",
    "    else:\n",
    "        while x<=y:\n",
    "                x+=1\n",
    "                print(y)"
   ]
  },
  {
   "cell_type": "code",
   "execution_count": 2,
   "id": "209bb45d",
   "metadata": {},
   "outputs": [
    {
     "name": "stdout",
     "output_type": "stream",
     "text": [
      "not yet, counter = 0\n",
      "not yet, counter = 1\n",
      "not yet, counter = 2\n",
      "not yet, counter = 3\n",
      "not yet, counter = 4\n"
     ]
    }
   ],
   "source": [
    "\n",
    "counter = 0\n",
    "while counter < 5:\n",
    "    print(\"not yet, counter = \" + str(counter))\n",
    "    counter += 1\n",
    "### print(\"counter = \" + str(counter))"
   ]
  },
  {
   "cell_type": "code",
   "execution_count": 3,
   "id": "7197015b",
   "metadata": {},
   "outputs": [
    {
     "name": "stdout",
     "output_type": "stream",
     "text": [
      "counter= 1\n",
      "counter= 2\n",
      "counter= 3\n",
      "counter= 4\n",
      "counter= 5\n",
      "counter= 6\n",
      "counter= 7\n",
      "counter= 8\n",
      "counter= 9\n"
     ]
    }
   ],
   "source": [
    "counter=1\n",
    "while counter in range(10):\n",
    "    print(\"counter= \"+str(counter))\n",
    "    counter +=1\n",
    "    "
   ]
  },
  {
   "cell_type": "code",
   "execution_count": 4,
   "id": "eb6a528b",
   "metadata": {},
   "outputs": [
    {
     "name": "stdout",
     "output_type": "stream",
     "text": [
      "counter= 1\n",
      "counter= 2\n",
      "counter= 3\n",
      "counter= 4\n",
      "counter= 5\n",
      "counter= 6\n",
      "counter= 7\n",
      "counter= 8\n",
      "counter= 9\n"
     ]
    }
   ],
   "source": [
    "counter=1\n",
    "while counter in range(1,10,1):\n",
    "    print(\"counter= \"+str(counter))\n",
    "    counter +=1\n",
    "    "
   ]
  },
  {
   "cell_type": "code",
   "execution_count": 5,
   "id": "4c073dfa",
   "metadata": {},
   "outputs": [
    {
     "name": "stdout",
     "output_type": "stream",
     "text": [
      "-17.22222222222222\n",
      "-11.666666666666666\n",
      "-6.111111111111111\n",
      "-0.5555555555555556\n",
      "5.0\n",
      "10.555555555555555\n",
      "16.11111111111111\n",
      "21.666666666666668\n",
      "27.22222222222222\n",
      "32.77777777777778\n"
     ]
    }
   ],
   "source": [
    "#Celsius = ((Fahrenheit-32)*5)/9\n",
    "\n",
    "\n",
    "def to_Celsius(Fahrenheit):\n",
    "    Celsius = ((Fahrenheit-32)*5)/9\n",
    "    return  Celsius\n",
    "for Fahrenheit in range(1,101,10):\n",
    "    print(to_Celsius(Fahrenheit))"
   ]
  },
  {
   "cell_type": "code",
   "execution_count": 9,
   "id": "e199eaed",
   "metadata": {},
   "outputs": [
    {
     "name": "stdout",
     "output_type": "stream",
     "text": [
      "5\n"
     ]
    }
   ],
   "source": [
    "d = {}\n",
    "d[1] = 1\n",
    "d['1'] = 2\n",
    "d[1] = 3\n",
    "sum = 0\n",
    "for i in d:\n",
    "    sum += d[i]\n",
    "print(sum)\n"
   ]
  },
  {
   "cell_type": "code",
   "execution_count": 14,
   "id": "03fc74b9",
   "metadata": {},
   "outputs": [
    {
     "ename": "KeyError",
     "evalue": "'4'",
     "output_type": "error",
     "traceback": [
      "\u001b[0;31m---------------------------------------------------------------------------\u001b[0m",
      "\u001b[0;31mKeyError\u001b[0m                                  Traceback (most recent call last)",
      "Cell \u001b[0;32mIn[14], line 4\u001b[0m\n\u001b[1;32m      1\u001b[0m course \u001b[38;5;241m=\u001b[39m {\u001b[38;5;124m'\u001b[39m\u001b[38;5;124m1\u001b[39m\u001b[38;5;124m'\u001b[39m: \u001b[38;5;124m'\u001b[39m\u001b[38;5;124mCIT590\u001b[39m\u001b[38;5;124m'\u001b[39m,\n\u001b[1;32m      2\u001b[0m           \u001b[38;5;124m'\u001b[39m\u001b[38;5;124m2\u001b[39m\u001b[38;5;124m'\u001b[39m: \u001b[38;5;124m'\u001b[39m\u001b[38;5;124mCIT591\u001b[39m\u001b[38;5;124m'\u001b[39m,\n\u001b[1;32m      3\u001b[0m           \u001b[38;5;124m'\u001b[39m\u001b[38;5;124m3\u001b[39m\u001b[38;5;124m'\u001b[39m: \u001b[38;5;124m'\u001b[39m\u001b[38;5;124mCIT593\u001b[39m\u001b[38;5;124m'\u001b[39m}\n\u001b[0;32m----> 4\u001b[0m \u001b[38;5;28mprint\u001b[39m(\u001b[43mcourse\u001b[49m\u001b[43m[\u001b[49m\u001b[38;5;124;43m'\u001b[39;49m\u001b[38;5;124;43m4\u001b[39;49m\u001b[38;5;124;43m'\u001b[39;49m\u001b[43m]\u001b[49m)\n",
      "\u001b[0;31mKeyError\u001b[0m: '4'"
     ]
    }
   ],
   "source": [
    "### course is not found so we get error###\n",
    "\n",
    "course = {'1': 'CIT590',\n",
    "          '2': 'CIT591',\n",
    "          '3': 'CIT593'}\n",
    "print(course['4']) "
   ]
  },
  {
   "cell_type": "code",
   "execution_count": 15,
   "id": "425a387b",
   "metadata": {},
   "outputs": [
    {
     "name": "stdout",
     "output_type": "stream",
     "text": [
      "CIT594\n"
     ]
    }
   ],
   "source": [
    "course = {'1': 'CIT590',\n",
    "         '2': 'CIT591',\n",
    "         '3': 'CIT593'}\n",
    "print(course.get('4', 'CIT594'))"
   ]
  },
  {
   "cell_type": "code",
   "execution_count": 16,
   "id": "c3cc7acd",
   "metadata": {},
   "outputs": [
    {
     "data": {
      "text/plain": [
       "['A', 'B', 'C']"
      ]
     },
     "execution_count": 16,
     "metadata": {},
     "output_type": "execute_result"
    }
   ],
   "source": [
    "d = {'A': 1, 'B': 2, 'C': 3}\n",
    "list(d.keys())"
   ]
  },
  {
   "cell_type": "code",
   "execution_count": 17,
   "id": "24651932",
   "metadata": {},
   "outputs": [
    {
     "name": "stdout",
     "output_type": "stream",
     "text": [
      "CIT590\n"
     ]
    }
   ],
   "source": [
    "course = {'1': 'CIT590',\n",
    "          '2': 'CIT591',\n",
    "          '3': 'CIT593'}\n",
    "print(course['1']) \n"
   ]
  },
  {
   "cell_type": "code",
   "execution_count": 18,
   "id": "b4913d05",
   "metadata": {},
   "outputs": [
    {
     "name": "stdout",
     "output_type": "stream",
     "text": [
      "None\n"
     ]
    }
   ],
   "source": [
    "course = {'1': 'CIT590',\n",
    "          '2': 'CIT591',\n",
    "          '3': 'CIT593'}\n",
    "print(course.get('4'))"
   ]
  },
  {
   "cell_type": "code",
   "execution_count": 19,
   "id": "7b2afa2e",
   "metadata": {},
   "outputs": [
    {
     "name": "stdout",
     "output_type": "stream",
     "text": [
      "Course not found\n"
     ]
    }
   ],
   "source": [
    "course = {'1': 'CIT590', '2': 'CIT591', '3': 'CIT593'}\n",
    "print(course.get('4', 'Course not found'))\n"
   ]
  },
  {
   "cell_type": "code",
   "execution_count": null,
   "id": "585438ff",
   "metadata": {},
   "outputs": [],
   "source": []
  },
  {
   "cell_type": "code",
   "execution_count": null,
   "id": "bdba4cc1",
   "metadata": {},
   "outputs": [],
   "source": []
  }
 ],
 "metadata": {
  "kernelspec": {
   "display_name": "Python 3 (ipykernel)",
   "language": "python",
   "name": "python3"
  },
  "language_info": {
   "codemirror_mode": {
    "name": "ipython",
    "version": 3
   },
   "file_extension": ".py",
   "mimetype": "text/x-python",
   "name": "python",
   "nbconvert_exporter": "python",
   "pygments_lexer": "ipython3",
   "version": "3.10.9"
  }
 },
 "nbformat": 4,
 "nbformat_minor": 5
}
