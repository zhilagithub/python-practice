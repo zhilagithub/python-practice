{
 "cells": [
  {
   "cell_type": "code",
   "execution_count": 1,
   "id": "2f4f9e71",
   "metadata": {},
   "outputs": [
    {
     "name": "stdout",
     "output_type": "stream",
     "text": [
      "<class 'int'>\n",
      "<class 'float'>\n",
      "<class 'float'>\n",
      "<class 'str'>\n",
      "<class 'int'>\n"
     ]
    }
   ],
   "source": [
    "Year = 2019\n",
    "Latitude = 53.908\n",
    "Longitude = 106.079\n",
    "FireName = \"Waskesiu CFB\"\n",
    "BurnedArea = 40\n",
    "\n",
    "print(type(Year))          # Output: <class 'int'>\n",
    "print(type(Latitude))      # Output: <class 'float'>\n",
    "print(type(Longitude))     # Output: <class 'float'>\n",
    "print(type(FireName))      # Output: <class 'str'>\n",
    "print(type(BurnedArea))    # Output: <class 'int'>\n"
   ]
  },
  {
   "cell_type": "code",
   "execution_count": null,
   "id": "d4b194ac",
   "metadata": {},
   "outputs": [],
   "source": []
  }
 ],
 "metadata": {
  "kernelspec": {
   "display_name": "Python 3 (ipykernel)",
   "language": "python",
   "name": "python3"
  },
  "language_info": {
   "codemirror_mode": {
    "name": "ipython",
    "version": 3
   },
   "file_extension": ".py",
   "mimetype": "text/x-python",
   "name": "python",
   "nbconvert_exporter": "python",
   "pygments_lexer": "ipython3",
   "version": "3.10.9"
  }
 },
 "nbformat": 4,
 "nbformat_minor": 5
}
