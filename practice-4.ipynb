{
 "cells": [
  {
   "cell_type": "code",
   "execution_count": 3,
   "id": "048da5ca",
   "metadata": {},
   "outputs": [
    {
     "name": "stdout",
     "output_type": "stream",
     "text": [
      "A : Apple, B : Ball, C : Cat, "
     ]
    }
   ],
   "source": [
    "new_dict = {\"A\" : \"Apple\", \"B\" : \"Ball\", \"C\" : \"Cat\"}\n",
    "keys = new_dict.keys()\n",
    "\n",
    "for k in keys:\n",
    "  print(k, ':', new_dict[k], end = ', ')"
   ]
  },
  {
   "cell_type": "code",
   "execution_count": 1,
   "id": "364da232",
   "metadata": {},
   "outputs": [
    {
     "name": "stdout",
     "output_type": "stream",
     "text": [
      "5\n"
     ]
    }
   ],
   "source": [
    "x=[1,2,3]\n",
    "y=x\n",
    "x=[4,5,6]\n",
    "result =y[0]+x[0]\n",
    "print(result)\n"
   ]
  },
  {
   "cell_type": "code",
   "execution_count": 6,
   "id": "ea662c0b",
   "metadata": {},
   "outputs": [
    {
     "name": "stdout",
     "output_type": "stream",
     "text": [
      "6\n"
     ]
    }
   ],
   "source": [
    "def my_func(x, y):\n",
    "    if y == 0:\n",
    "        return 0\n",
    "    return x + my_func(x, y-1)\n",
    "result=my_func(2,3)\n",
    "print(result)\n",
    "\n"
   ]
  },
  {
   "cell_type": "code",
   "execution_count": 9,
   "id": "becf5fc9",
   "metadata": {},
   "outputs": [
    {
     "name": "stdout",
     "output_type": "stream",
     "text": [
      "['The world is hard and cruel. We are here none knows why,', 'and we go none knows whither.']\n"
     ]
    }
   ],
   "source": [
    "text = '''The world is hard and cruel. We are here none knows why,\n",
    "and we go none knows whither.\n",
    "We must be very humble'''\n",
    "\n",
    "lst = []\n",
    "lines = text.split('\\n')\n",
    "for i in range(2):\n",
    "    lst.append(lines[i].rstrip())\n",
    "\n",
    "print(lst)\n"
   ]
  },
  {
   "cell_type": "code",
   "execution_count": 1,
   "id": "06303907",
   "metadata": {},
   "outputs": [
    {
     "name": "stdout",
     "output_type": "stream",
     "text": [
      "0.5\n"
     ]
    }
   ],
   "source": [
    "print(8 / 2 ** 2 / 4.0)\n"
   ]
  },
  {
   "cell_type": "code",
   "execution_count": 2,
   "id": "f62b45c1",
   "metadata": {},
   "outputs": [
    {
     "name": "stdout",
     "output_type": "stream",
     "text": [
      "1234"
     ]
    }
   ],
   "source": [
    "for x in range(4):\n",
    "\n",
    "   print(x + 1, end = '')"
   ]
  },
  {
   "cell_type": "code",
   "execution_count": 10,
   "id": "0b20ed20",
   "metadata": {},
   "outputs": [
    {
     "name": "stdout",
     "output_type": "stream",
     "text": [
      "-3\n"
     ]
    }
   ],
   "source": [
    "num=7\n",
    "while num>=1:\n",
    "    num=num-3\n",
    "    continue\n",
    "    num=num-2\n",
    "    break\n",
    "num=num-1\n",
    "print(num)"
   ]
  },
  {
   "cell_type": "code",
   "execution_count": 4,
   "id": "1eec3378",
   "metadata": {},
   "outputs": [
    {
     "ename": "SyntaxError",
     "evalue": "invalid syntax (2718189066.py, line 2)",
     "output_type": "error",
     "traceback": [
      "\u001b[0;36m  Cell \u001b[0;32mIn[4], line 2\u001b[0;36m\u001b[0m\n\u001b[0;31m    while <=5\u001b[0m\n\u001b[0m          ^\u001b[0m\n\u001b[0;31mSyntaxError\u001b[0m\u001b[0;31m:\u001b[0m invalid syntax\n"
     ]
    }
   ],
   "source": [
    "x=5\n",
    "while <=5\n",
    "print(x-5)"
   ]
  },
  {
   "cell_type": "code",
   "execution_count": 5,
   "id": "83bb207e",
   "metadata": {},
   "outputs": [
    {
     "name": "stdout",
     "output_type": "stream",
     "text": [
      "0\n"
     ]
    }
   ],
   "source": [
    "x = 5\n",
    "while x <= 5:\n",
    "    print(x - 5)\n",
    "    x += 1\n"
   ]
  },
  {
   "cell_type": "code",
   "execution_count": null,
   "id": "782723e5",
   "metadata": {},
   "outputs": [],
   "source": []
  },
  {
   "cell_type": "code",
   "execution_count": 6,
   "id": "f673771e",
   "metadata": {},
   "outputs": [
    {
     "name": "stdout",
     "output_type": "stream",
     "text": [
      "1000\n",
      "100.0\n",
      "10.0\n",
      "1.0\n"
     ]
    }
   ],
   "source": [
    "num = 1000\n",
    "\n",
    "while num >= 1:\n",
    "    print(num)\n",
    "    num = num / 10\n"
   ]
  },
  {
   "cell_type": "code",
   "execution_count": 14,
   "id": "4821a3bf",
   "metadata": {},
   "outputs": [
    {
     "name": "stdout",
     "output_type": "stream",
     "text": [
      "Object `code` not found.\n",
      "1\n",
      "2\n",
      "3\n",
      "4\n"
     ]
    }
   ],
   "source": [
    "Which is the output of the following code?\n",
    "\n",
    "for x in range(4):\n",
    "      print(x+1)"
   ]
  },
  {
   "cell_type": "code",
   "execution_count": 17,
   "id": "78dd47ff",
   "metadata": {},
   "outputs": [
    {
     "name": "stdout",
     "output_type": "stream",
     "text": [
      "[0]\n",
      "[1]\n",
      "[2]\n",
      "[3]\n",
      "[4]\n",
      "[5]\n",
      "[6]\n",
      "[7]\n",
      "[8]\n",
      "[9]\n",
      "[10]\n"
     ]
    }
   ],
   "source": [
    "for i in range (0,11):\n",
    "    print(list(range(i,i+1,2)))"
   ]
  },
  {
   "cell_type": "code",
   "execution_count": null,
   "id": "1e9ce78a",
   "metadata": {},
   "outputs": [],
   "source": []
  }
 ],
 "metadata": {
  "kernelspec": {
   "display_name": "Python 3 (ipykernel)",
   "language": "python",
   "name": "python3"
  },
  "language_info": {
   "codemirror_mode": {
    "name": "ipython",
    "version": 3
   },
   "file_extension": ".py",
   "mimetype": "text/x-python",
   "name": "python",
   "nbconvert_exporter": "python",
   "pygments_lexer": "ipython3",
   "version": "3.10.9"
  }
 },
 "nbformat": 4,
 "nbformat_minor": 5
}
