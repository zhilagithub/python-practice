{
 "cells": [
  {
   "cell_type": "code",
   "execution_count": 1,
   "id": "5f10b080",
   "metadata": {},
   "outputs": [
    {
     "name": "stdout",
     "output_type": "stream",
     "text": [
      "dbca\n"
     ]
    }
   ],
   "source": [
    "# write a python program to change the given string \"abcd\" to a new string \n",
    "# where the first and last characters have been exchanged.\n",
    "\n",
    "\n",
    "input_string = \"abcd\"\n",
    "output_string = input_string[3] + input_string[1] + input_string[2] + input_string[0]\n",
    "print(output_string)\n"
   ]
  },
  {
   "cell_type": "code",
   "execution_count": 4,
   "id": "1f16d714",
   "metadata": {},
   "outputs": [
    {
     "name": "stdout",
     "output_type": "stream",
     "text": [
      "first element is :  20\n",
      "second element is :  10\n"
     ]
    }
   ],
   "source": [
    "### swap the values of first_element and second_element\n",
    "\n",
    "\n",
    "first_element=10\n",
    "second_element=20\n",
    "\n",
    "swap=first_element\n",
    "first_element=second_element\n",
    "second_element=swap\n",
    "print(\"first element is : \",first_element)\n",
    "print(\"second element is : \",second_element)\n"
   ]
  },
  {
   "cell_type": "code",
   "execution_count": 1,
   "id": "2b66f8b0",
   "metadata": {},
   "outputs": [
    {
     "name": "stdout",
     "output_type": "stream",
     "text": [
      "[2, 4, 6, 8, 10]\n"
     ]
    }
   ],
   "source": [
    "numbers=[1,2,3,4,5,6,7,8,9,10]\n",
    "even_numbers=[]\n",
    "for number in numbers :\n",
    "    if (number%2==0):\n",
    "        even_numbers.append(number)\n",
    "print(even_numbers)\n",
    "    "
   ]
  },
  {
   "cell_type": "code",
   "execution_count": 2,
   "id": "0c332835",
   "metadata": {},
   "outputs": [
    {
     "name": "stdout",
     "output_type": "stream",
     "text": [
      "0\n",
      "1\n",
      "2\n",
      "3\n",
      "4\n",
      "5\n",
      "6\n",
      "7\n"
     ]
    }
   ],
   "source": [
    "numbers=[4,9,15,21,34,57,68,91]\n",
    "for i in range(len(numbers)):\n",
    "    print (i)"
   ]
  },
  {
   "cell_type": "code",
   "execution_count": 3,
   "id": "8c986176",
   "metadata": {},
   "outputs": [
    {
     "name": "stdout",
     "output_type": "stream",
     "text": [
      "6\n"
     ]
    }
   ],
   "source": [
    "numbers=[4,9,15,21,34,57,68,91]\n",
    "for i in range(len(numbers)):\n",
    "    if numbers [i] == 68:\n",
    "        print(i)"
   ]
  },
  {
   "cell_type": "code",
   "execution_count": 4,
   "id": "3312022a",
   "metadata": {},
   "outputs": [
    {
     "name": "stdout",
     "output_type": "stream",
     "text": [
      "june\n",
      "j\n",
      "u\n",
      "n\n",
      "e\n"
     ]
    }
   ],
   "source": [
    "month=\"june\"\n",
    "print(month)\n",
    "for x in month: \n",
    "    print(x)"
   ]
  },
  {
   "cell_type": "code",
   "execution_count": 7,
   "id": "1debe5b7",
   "metadata": {},
   "outputs": [],
   "source": [
    "### how many times the body of third loop can be executed ?\n",
    "\n",
    "a=0\n",
    "for i in range(10):\n",
    "    for j in range(10):\n",
    "        if i==j:\n",
    "            for k in range(5):\n",
    "                a+=i*j\n",
    "\n",
    "# Therefore, the body of the innermost loop will be executed 10 times in total.  \n",
    "\n"
   ]
  },
  {
   "cell_type": "code",
   "execution_count": 8,
   "id": "4e0c6bae",
   "metadata": {},
   "outputs": [
    {
     "name": "stdout",
     "output_type": "stream",
     "text": [
      "excellent\n"
     ]
    }
   ],
   "source": [
    "while True:\n",
    "    while 0 >1:\n",
    "        break\n",
    "    print(\"excellent\")\n",
    "    break"
   ]
  },
  {
   "cell_type": "code",
   "execution_count": 11,
   "id": "8f323102",
   "metadata": {},
   "outputs": [
    {
     "name": "stdout",
     "output_type": "stream",
     "text": [
      "3\n"
     ]
    }
   ],
   "source": [
    "listData = [[[1, 2], [3, 4], 5], 6, [5, [4, 3], [2, 1]]]\n",
    "print(len(listData))"
   ]
  },
  {
   "cell_type": "code",
   "execution_count": 12,
   "id": "42f08a28",
   "metadata": {},
   "outputs": [
    {
     "name": "stdout",
     "output_type": "stream",
     "text": [
      "obligant\n"
     ]
    }
   ],
   "source": [
    "phrase = ['Astra', 'inclinant', 'sed', 'non', 'obligant']\n",
    "print(phrase[-1])\n"
   ]
  },
  {
   "cell_type": "code",
   "execution_count": 13,
   "id": "a964ef80",
   "metadata": {},
   "outputs": [
    {
     "name": "stdout",
     "output_type": "stream",
     "text": [
      "['inclinant', 'sed']\n"
     ]
    }
   ],
   "source": [
    "phrase = ['Astra', 'inclinant', 'sed', 'non', 'obligant']\n",
    "print(phrase[1:3])"
   ]
  },
  {
   "cell_type": "code",
   "execution_count": 14,
   "id": "a8ba2a8d",
   "metadata": {},
   "outputs": [
    {
     "name": "stdout",
     "output_type": "stream",
     "text": [
      "['Astra', 'inclinant', 'sed', 'non']\n"
     ]
    }
   ],
   "source": [
    "print(phrase[:-1])"
   ]
  },
  {
   "cell_type": "code",
   "execution_count": 15,
   "id": "ba3dbc20",
   "metadata": {},
   "outputs": [
    {
     "name": "stdout",
     "output_type": "stream",
     "text": [
      "['sed', 'non']\n"
     ]
    }
   ],
   "source": [
    "print(phrase[2:-1])"
   ]
  },
  {
   "cell_type": "code",
   "execution_count": 16,
   "id": "365abdfb",
   "metadata": {},
   "outputs": [
    {
     "data": {
      "text/plain": [
       "[1, 2, 3, 'a', 'b', 'c']"
      ]
     },
     "execution_count": 16,
     "metadata": {},
     "output_type": "execute_result"
    }
   ],
   "source": [
    "num_list = [1, 2, 3]\n",
    "char_list = ['a', 'b', 'c']\n",
    "num_list + char_list"
   ]
  },
  {
   "cell_type": "code",
   "execution_count": 17,
   "id": "4dc9f1fa",
   "metadata": {},
   "outputs": [
    {
     "name": "stdout",
     "output_type": "stream",
     "text": [
      "None\n"
     ]
    }
   ],
   "source": [
    "num_list = [1, 2, 3]\n",
    "char_list = ['a', 'b', 'c']\n",
    "x=num_list.extend(char_list)\n",
    "print(x)"
   ]
  },
  {
   "cell_type": "code",
   "execution_count": 18,
   "id": "e1295eb3",
   "metadata": {},
   "outputs": [],
   "source": [
    "class Person():\n",
    " name = None\n",
    " def __init__(self, name):\n",
    "   Person.name = name\n",
    " def student(self):\n",
    "   return self.name.split()[0]\n",
    " \n",
    "class Student(Person):\n",
    " def student(self):\n",
    "   return self.name.split()[1]"
   ]
  },
  {
   "cell_type": "code",
   "execution_count": 19,
   "id": "2f2d3325",
   "metadata": {},
   "outputs": [
    {
     "data": {
      "text/plain": [
       "'Jane Doe'"
      ]
     },
     "execution_count": 19,
     "metadata": {},
     "output_type": "execute_result"
    }
   ],
   "source": [
    "Person('Jane Doe').name"
   ]
  },
  {
   "cell_type": "code",
   "execution_count": 20,
   "id": "2718be3e",
   "metadata": {},
   "outputs": [
    {
     "data": {
      "text/plain": [
       "'Jane'"
      ]
     },
     "execution_count": 20,
     "metadata": {},
     "output_type": "execute_result"
    }
   ],
   "source": [
    "Person('Jane Doe').student()"
   ]
  },
  {
   "cell_type": "code",
   "execution_count": null,
   "id": "59ee718a",
   "metadata": {},
   "outputs": [],
   "source": []
  }
 ],
 "metadata": {
  "kernelspec": {
   "display_name": "Python 3 (ipykernel)",
   "language": "python",
   "name": "python3"
  },
  "language_info": {
   "codemirror_mode": {
    "name": "ipython",
    "version": 3
   },
   "file_extension": ".py",
   "mimetype": "text/x-python",
   "name": "python",
   "nbconvert_exporter": "python",
   "pygments_lexer": "ipython3",
   "version": "3.10.9"
  }
 },
 "nbformat": 4,
 "nbformat_minor": 5
}
