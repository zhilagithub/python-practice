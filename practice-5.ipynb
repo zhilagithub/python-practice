{
 "cells": [
  {
   "cell_type": "code",
   "execution_count": 6,
   "id": "989c6dd9",
   "metadata": {},
   "outputs": [
    {
     "name": "stdout",
     "output_type": "stream",
     "text": [
      "291.3666666666667\n"
     ]
    }
   ],
   "source": [
    "burned_areas = [40, 0.1,834]\n",
    "average_burned_area = sum(burned_areas) / len(burned_areas)\n",
    "print(average_burned_area)\n",
    "\n"
   ]
  },
  {
   "cell_type": "code",
   "execution_count": 8,
   "id": "b89788e0",
   "metadata": {},
   "outputs": [
    {
     "data": {
      "text/plain": [
       "291.37"
      ]
     },
     "execution_count": 8,
     "metadata": {},
     "output_type": "execute_result"
    }
   ],
   "source": [
    "## Round the output of above answer to two decimal places.\n",
    "round(average_burned_area,2)\n"
   ]
  },
  {
   "cell_type": "code",
   "execution_count": 10,
   "id": "686f4ec6",
   "metadata": {},
   "outputs": [
    {
     "name": "stdout",
     "output_type": "stream",
     "text": [
      "2.91e+02\n"
     ]
    }
   ],
   "source": [
    "#Use the format()function to convert the floating-point output in question2.c to the scientific notation.\n",
    "#Hint: In scientific notation, a number is represented by digits, followed by an ’E’ along with the number of times to\n",
    "num = 291.37\n",
    "sci_not = \"{:.2e}\".format(num)\n",
    "\n",
    "print(sci_not)\n"
   ]
  },
  {
   "cell_type": "code",
   "execution_count": 12,
   "id": "472c0497",
   "metadata": {},
   "outputs": [
    {
     "name": "stdout",
     "output_type": "stream",
     "text": [
      "0.31622776601683794\n"
     ]
    }
   ],
   "source": [
    "### Use the sqrt() function to compute the square root of the burned area of Birch Bay fire(0.1)\n",
    "#Hint: The required function needs to be imported from the math module.\n",
    "\n",
    "\n",
    "import math\n",
    "\n",
    "\n",
    "\n",
    "burned_area = 0.1\n",
    "sqrt_burned_area = math.sqrt(burned_area)\n",
    "\n",
    "print(sqrt_burned_area)\n"
   ]
  },
  {
   "cell_type": "code",
   "execution_count": 16,
   "id": "474ae478",
   "metadata": {},
   "outputs": [
    {
     "name": "stdout",
     "output_type": "stream",
     "text": [
      "Candy purchased: 0\n",
      "Candy purchased: 1\n",
      "Candy purchased: 2\n",
      "Candy purchased: 3\n",
      "Candy purchased: 4\n",
      "Candy purchased: 5\n"
     ]
    }
   ],
   "source": [
    "# Assign `candy_purchased` to an initial value of 0 to act as a counter\n",
    "candy_purchased = 0\n",
    "\n",
    "# Create an iterative statement using `while` and `candy_purchased`\n",
    "# Display how many purchases have been made with each iteration\n",
    "\n",
    "while candy_purchased <= 5:\n",
    "    print('Candy purchased:', int(candy_purchased))\n",
    "    # Increment the candy_purchased counter\n",
    "    candy_purchased += 1\n",
    "    \n",
    "    "
   ]
  },
  {
   "cell_type": "code",
   "execution_count": 17,
   "id": "a02996d3",
   "metadata": {},
   "outputs": [
    {
     "name": "stdout",
     "output_type": "stream",
     "text": [
      "Candy purchased: 10\n",
      "Candy purchased: 20\n",
      "Candy purchased: 30\n",
      "Candy purchased: 40\n",
      "Candy purchased: 50\n",
      "Candy purchased: 60\n",
      "Candy purchased: 70\n",
      "Candy purchased: 80\n",
      "Candy purchased: 90\n",
      "Candy purchased: 100\n"
     ]
    }
   ],
   "source": [
    "\n",
    "while candy_purchased <= 100:\n",
    "    if candy_purchased % 10 == 0:\n",
    "        print('Candy purchased: ' + str(candy_purchased))\n",
    "    candy_purchased += 1"
   ]
  },
  {
   "cell_type": "code",
   "execution_count": 3,
   "id": "6e11f656",
   "metadata": {},
   "outputs": [
    {
     "name": "stdout",
     "output_type": "stream",
     "text": [
      "3\n",
      "2\n",
      "1\n"
     ]
    }
   ],
   "source": [
    "import time  # Import the time module\n",
    "\n",
    "n = 3  # Initialize n with the value 3\n",
    "while n > 0:  # Start a while loop that runs as long as n is greater than 0\n",
    "    print(n)  # Print the current value of n\n",
    "    time.sleep(1)  # Pause the execution for 1 second\n",
    "    n = n - 1  # Decrement n by 1\n"
   ]
  },
  {
   "cell_type": "code",
   "execution_count": 1,
   "id": "70925863",
   "metadata": {},
   "outputs": [
    {
     "name": "stdout",
     "output_type": "stream",
     "text": [
      "Help on built-in function round in module builtins:\n",
      "\n",
      "round(number, ndigits=None)\n",
      "    Round a number to a given precision in decimal digits.\n",
      "    \n",
      "    The return value is an integer if ndigits is omitted or None.  Otherwise\n",
      "    the return value has the same type as the number.  ndigits may be negative.\n",
      "\n"
     ]
    }
   ],
   "source": [
    "help(round)"
   ]
  },
  {
   "cell_type": "code",
   "execution_count": 2,
   "id": "2767877b",
   "metadata": {},
   "outputs": [
    {
     "name": "stdout",
     "output_type": "stream",
     "text": [
      "Help on built-in function id in module builtins:\n",
      "\n",
      "id(obj, /)\n",
      "    Return the identity of an object.\n",
      "    \n",
      "    This is guaranteed to be unique among simultaneously existing objects.\n",
      "    (CPython uses the object's memory address.)\n",
      "\n"
     ]
    }
   ],
   "source": [
    "help(id)"
   ]
  },
  {
   "cell_type": "code",
   "execution_count": 3,
   "id": "b0a83360",
   "metadata": {},
   "outputs": [
    {
     "data": {
      "text/plain": [
       "36520347436056576"
      ]
     },
     "execution_count": 3,
     "metadata": {},
     "output_type": "execute_result"
    }
   ],
   "source": [
    "def even_bigger(x):\n",
    "    return (2 * x) ** x\n",
    "\n",
    "even_bigger(12)"
   ]
  },
  {
   "cell_type": "code",
   "execution_count": 4,
   "id": "c83aaaa1",
   "metadata": {},
   "outputs": [
    {
     "data": {
      "text/plain": [
       "45"
      ]
     },
     "execution_count": 4,
     "metadata": {},
     "output_type": "execute_result"
    }
   ],
   "source": [
    "round(45.342)"
   ]
  },
  {
   "cell_type": "code",
   "execution_count": 5,
   "id": "8442148e",
   "metadata": {},
   "outputs": [],
   "source": [
    "def g(a, b):\n",
    "    c = a + b\n",
    "    return c\n"
   ]
  },
  {
   "cell_type": "code",
   "execution_count": null,
   "id": "3afa2ffe",
   "metadata": {},
   "outputs": [],
   "source": []
  },
  {
   "cell_type": "code",
   "execution_count": 6,
   "id": "a58036ba",
   "metadata": {},
   "outputs": [],
   "source": [
    "x = 3\n",
    "y = 5\n",
    "x = y\n"
   ]
  },
  {
   "cell_type": "code",
   "execution_count": null,
   "id": "e0cc7d5c",
   "metadata": {},
   "outputs": [],
   "source": [
    "x = 2\n",
    "\n",
    "y = 8\n",
    "\n",
    "if x > y:\n",
    "\n",
    "   print(x)\n",
    "\n",
    "elif x == y:\n",
    "\n",
    "   print(y/x)\n",
    "\n",
    "else:\n",
    "\n",
    "   print(y)"
   ]
  },
  {
   "cell_type": "code",
   "execution_count": 2,
   "id": "f5686510",
   "metadata": {},
   "outputs": [
    {
     "name": "stdout",
     "output_type": "stream",
     "text": [
      "3\n"
     ]
    }
   ],
   "source": [
    "x = 3\n",
    "\n",
    "y = 4\n",
    "\n",
    "if y < 3:\n",
    "\n",
    " while x <= 5:\n",
    "\n",
    "    print(y, end = '')\n",
    "\n",
    "    x += 1\n",
    "\n",
    "else:\n",
    "\n",
    "    print(x)"
   ]
  },
  {
   "cell_type": "code",
   "execution_count": 4,
   "id": "3720cf43",
   "metadata": {},
   "outputs": [
    {
     "name": "stdout",
     "output_type": "stream",
     "text": [
      "2\n"
     ]
    }
   ],
   "source": [
    "x=0\n",
    "a=0\n",
    "b=-5\n",
    "if a>0:\n",
    "    if b<0:\n",
    "        x=x+5\n",
    "    elif a>5:\n",
    "            x=x+4\n",
    "    else:\n",
    "            x=x+3\n",
    "else:\n",
    "    x=x+2\n",
    "print(x)    \n",
    "            "
   ]
  },
  {
   "cell_type": "code",
   "execution_count": null,
   "id": "619b0921",
   "metadata": {},
   "outputs": [],
   "source": []
  }
 ],
 "metadata": {
  "kernelspec": {
   "display_name": "Python 3 (ipykernel)",
   "language": "python",
   "name": "python3"
  },
  "language_info": {
   "codemirror_mode": {
    "name": "ipython",
    "version": 3
   },
   "file_extension": ".py",
   "mimetype": "text/x-python",
   "name": "python",
   "nbconvert_exporter": "python",
   "pygments_lexer": "ipython3",
   "version": "3.10.9"
  }
 },
 "nbformat": 4,
 "nbformat_minor": 5
}
