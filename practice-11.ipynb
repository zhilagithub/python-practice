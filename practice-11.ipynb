{
 "cells": [
  {
   "cell_type": "code",
   "execution_count": 9,
   "id": "0d06e72e",
   "metadata": {
    "scrolled": true
   },
   "outputs": [
    {
     "name": "stdout",
     "output_type": "stream",
     "text": [
      "hello zhila!\n",
      "welcome to the team\n"
     ]
    }
   ],
   "source": [
    "def greeting(name):\n",
    "    print(\"hello \" + name + \"!\")\n",
    "    print(\"welcome to the team\")\n",
    "greeting(\"zhila\")\n",
    "    "
   ]
  },
  {
   "cell_type": "code",
   "execution_count": 15,
   "id": "f3f4c568",
   "metadata": {},
   "outputs": [
    {
     "name": "stdout",
     "output_type": "stream",
     "text": [
      "5\n"
     ]
    }
   ],
   "source": [
    "def subtract_num():\n",
    "    print(10-5)\n",
    "subtract_num() \n"
   ]
  },
  {
   "cell_type": "code",
   "execution_count": 17,
   "id": "b16e1905",
   "metadata": {},
   "outputs": [
    {
     "name": "stdout",
     "output_type": "stream",
     "text": [
      "5\n"
     ]
    }
   ],
   "source": [
    "def subtract_num(number1,number2):\n",
    "    print(number1-number2)\n",
    "subtract_num(10,5)   \n",
    "    \n",
    "    "
   ]
  },
  {
   "cell_type": "code",
   "execution_count": null,
   "id": "18a373ea",
   "metadata": {},
   "outputs": [],
   "source": [
    "# Define a function to calculate area of triangle\n",
    "#def area_triangle(base, height):\n",
    " #return base * height / 2\n",
    "# here is 3 forms of writing the code     "
   ]
  },
  {
   "cell_type": "code",
   "execution_count": null,
   "id": "c36ae67a",
   "metadata": {},
   "outputs": [],
   "source": [
    "### example of return keyword in python"
   ]
  },
  {
   "cell_type": "code",
   "execution_count": 26,
   "id": "127dbfb8",
   "metadata": {},
   "outputs": [
    {
     "name": "stdout",
     "output_type": "stream",
     "text": [
      "25.0\n"
     ]
    }
   ],
   "source": [
    "# way 1\n",
    "\n",
    "def area(base, height) :\n",
    "    print((base*height)/2)\n",
    "area(5,10) \n"
   ]
  },
  {
   "cell_type": "code",
   "execution_count": 33,
   "id": "2a092ddb",
   "metadata": {},
   "outputs": [
    {
     "data": {
      "text/plain": [
       "25.0"
      ]
     },
     "execution_count": 33,
     "metadata": {},
     "output_type": "execute_result"
    }
   ],
   "source": [
    "# way 2\n",
    "\n",
    "def area(base,height):\n",
    "    return base*height /2\n",
    "\n",
    "area (5,10)\n"
   ]
  },
  {
   "cell_type": "code",
   "execution_count": 36,
   "id": "9c81f1e3",
   "metadata": {},
   "outputs": [
    {
     "name": "stdout",
     "output_type": "stream",
     "text": [
      "25.0\n"
     ]
    }
   ],
   "source": [
    "# way 3\n",
    "\n",
    "def area(base,height):\n",
    "    return base*height /2\n",
    "result = area (5,10)\n",
    "print(result)\n"
   ]
  },
  {
   "cell_type": "code",
   "execution_count": null,
   "id": "72a354eb",
   "metadata": {},
   "outputs": [],
   "source": [
    "### example of return keyword in python "
   ]
  },
  {
   "cell_type": "code",
   "execution_count": 34,
   "id": "d5c9c425",
   "metadata": {},
   "outputs": [
    {
     "name": "stdout",
     "output_type": "stream",
     "text": [
      "64\n"
     ]
    }
   ],
   "source": [
    "# way 1\n",
    "\n",
    "def multiplyNum(num1):\n",
    "    return num1 * 8\n",
    "\n",
    "result = multiplyNum(8)\n",
    "print(result)\n"
   ]
  },
  {
   "cell_type": "code",
   "execution_count": 35,
   "id": "34d48831",
   "metadata": {},
   "outputs": [
    {
     "data": {
      "text/plain": [
       "64"
      ]
     },
     "execution_count": 35,
     "metadata": {},
     "output_type": "execute_result"
    }
   ],
   "source": [
    "# way 2\n",
    "\n",
    "def multiplyNum(num1):\n",
    "    return num1 * 8\n",
    "multiplyNum(8)\n"
   ]
  },
  {
   "cell_type": "code",
   "execution_count": null,
   "id": "8c089e93",
   "metadata": {},
   "outputs": [],
   "source": [
    "### example of \"if\" and \"else\" fucntion "
   ]
  },
  {
   "cell_type": "code",
   "execution_count": 39,
   "id": "9daaccb2",
   "metadata": {},
   "outputs": [
    {
     "name": "stdout",
     "output_type": "stream",
     "text": [
      "Invalid username. Must be at least 8 characters long.\n"
     ]
    }
   ],
   "source": [
    "def hint_username(username):\n",
    "    if len(username) < 8:\n",
    "        print(\"Invalid username. Must be at least 8 characters long.\")\n",
    "    else:\n",
    "        print(\"Valid username.\")\n",
    "hint_username(\"zhila\") \n",
    "\n"
   ]
  },
  {
   "cell_type": "code",
   "execution_count": 40,
   "id": "107d1372",
   "metadata": {},
   "outputs": [
    {
     "name": "stdout",
     "output_type": "stream",
     "text": [
      "Valid username.\n"
     ]
    }
   ],
   "source": [
    "def hint_username(username):\n",
    "    if len(username) < 8:\n",
    "        print(\"Invalid username. Must be at least 8 characters long.\")\n",
    "    else:\n",
    "        print(\"Valid username.\")\n",
    "hint_username(\"mylovelyzhila\")\n"
   ]
  },
  {
   "cell_type": "code",
   "execution_count": 46,
   "id": "d545b709",
   "metadata": {},
   "outputs": [
    {
     "name": "stdout",
     "output_type": "stream",
     "text": [
      "no\n"
     ]
    }
   ],
   "source": [
    "def count_username(username):\n",
    "    if len(username)<10:\n",
    "       print(\"no\")\n",
    "    else:\n",
    "       print(\"yes\")\n",
    "count_username(\"giveup\")   \n",
    "        "
   ]
  },
  {
   "cell_type": "code",
   "execution_count": 52,
   "id": "361bfb64",
   "metadata": {},
   "outputs": [
    {
     "name": "stdout",
     "output_type": "stream",
     "text": [
      "too warm\n"
     ]
    }
   ],
   "source": [
    "def weather_warning(temperature):\n",
    "    if temperature <25 :\n",
    "        print(\"lovely day\")\n",
    "    else:\n",
    "        print(\"too warm\")\n",
    "weather_warning(30)\n",
    "\n",
    "    "
   ]
  },
  {
   "cell_type": "code",
   "execution_count": 2,
   "id": "60b99413",
   "metadata": {},
   "outputs": [
    {
     "data": {
      "text/plain": [
       "16005.99"
      ]
     },
     "execution_count": 2,
     "metadata": {},
     "output_type": "execute_result"
    }
   ],
   "source": [
    "def total_sales(price,num_tickets):\n",
    "    \n",
    "    round(price,num_tickets)\n",
    "    \n",
    "    return(price*num_tickets)\n",
    "\n",
    "total_sales(15.99,1001)\n"
   ]
  },
  {
   "cell_type": "code",
   "execution_count": null,
   "id": "fec5757e",
   "metadata": {},
   "outputs": [],
   "source": []
  }
 ],
 "metadata": {
  "kernelspec": {
   "display_name": "Python 3 (ipykernel)",
   "language": "python",
   "name": "python3"
  },
  "language_info": {
   "codemirror_mode": {
    "name": "ipython",
    "version": 3
   },
   "file_extension": ".py",
   "mimetype": "text/x-python",
   "name": "python",
   "nbconvert_exporter": "python",
   "pygments_lexer": "ipython3",
   "version": "3.10.9"
  }
 },
 "nbformat": 4,
 "nbformat_minor": 5
}
