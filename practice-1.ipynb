{
 "cells": [
  {
   "cell_type": "code",
   "execution_count": 4,
   "id": "2b2e7e7d",
   "metadata": {},
   "outputs": [
    {
     "name": "stdout",
     "output_type": "stream",
     "text": [
      "even numbers are :  [2, 4, 6, 8, 10]\n"
     ]
    }
   ],
   "source": [
    "numbers = [1, 2, 3, 4, 5, 6, 7, 8, 9, 10]\n",
    "\n",
    "even_numbers = []\n",
    "\n",
    "for number in numbers:\n",
    "    \n",
    "    if (number % 2 == 0): even_numbers.append(number)\n",
    "print(\"even numbers are : \",even_numbers)\n",
    "    "
   ]
  },
  {
   "cell_type": "code",
   "execution_count": null,
   "id": "27573b45",
   "metadata": {},
   "outputs": [],
   "source": []
  },
  {
   "cell_type": "code",
   "execution_count": 10,
   "id": "602e5f40",
   "metadata": {},
   "outputs": [
    {
     "name": "stdout",
     "output_type": "stream",
     "text": [
      "even numbers are :  [2, 4, 6, 8, 10]\n",
      "this is the number of even numbers:  5\n"
     ]
    }
   ],
   "source": [
    "numbers = [1, 2, 3, 4, 5, 6, 7, 8, 9, 10]\n",
    "\n",
    "even_numbers = []\n",
    "even_count = 0\n",
    "for number in numbers:\n",
    "    \n",
    "    if (number % 2 == 0): \n",
    "        even_numbers.append(number)\n",
    "        even_count += 1 \n",
    "        \n",
    "print(\"even numbers are : \",even_numbers)\n",
    "\n",
    "print(\"this is the number of even numbers: \",len(even_numbers)) \n",
    "\n"
   ]
  },
  {
   "cell_type": "code",
   "execution_count": 1,
   "id": "f9669671",
   "metadata": {},
   "outputs": [
    {
     "name": "stdout",
     "output_type": "stream",
     "text": [
      "-2.2 is the min number.\n"
     ]
    }
   ],
   "source": [
    "###Write code that finds the minimum value of a list of numbers 5, 3, 8, -1, -2.2, 0\n",
    "##Don't use the built-in min() function\n",
    "\n",
    "## Iterate over that list and find the min value\n",
    "###Print the minimum value in the format: \"... is the min number”\n",
    "\n",
    "\n",
    "\n",
    "numbers = [5, 3, 8, -1, -2.2, 0]\n",
    "min_value = numbers[0]  # Initialize min_value with the first element\n",
    "\n",
    "for num in numbers:\n",
    "    if num < min_value:\n",
    "        min_value = num\n",
    "\n",
    "print(f\"{min_value} is the min number.\")\n",
    "    "
   ]
  },
  {
   "cell_type": "code",
   "execution_count": null,
   "id": "eecba118",
   "metadata": {},
   "outputs": [],
   "source": []
  },
  {
   "cell_type": "code",
   "execution_count": null,
   "id": "577be710",
   "metadata": {},
   "outputs": [],
   "source": []
  }
 ],
 "metadata": {
  "kernelspec": {
   "display_name": "Python 3 (ipykernel)",
   "language": "python",
   "name": "python3"
  },
  "language_info": {
   "codemirror_mode": {
    "name": "ipython",
    "version": 3
   },
   "file_extension": ".py",
   "mimetype": "text/x-python",
   "name": "python",
   "nbconvert_exporter": "python",
   "pygments_lexer": "ipython3",
   "version": "3.10.9"
  }
 },
 "nbformat": 4,
 "nbformat_minor": 5
}
