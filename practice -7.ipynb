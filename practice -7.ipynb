{
 "cells": [
  {
   "cell_type": "code",
   "execution_count": 1,
   "id": "e885b6d5",
   "metadata": {},
   "outputs": [
    {
     "name": "stdout",
     "output_type": "stream",
     "text": [
      "0.5\n"
     ]
    }
   ],
   "source": [
    "print(8 / 2 / 2 / 4)"
   ]
  },
  {
   "cell_type": "code",
   "execution_count": 2,
   "id": "a2d6cf12",
   "metadata": {},
   "outputs": [
    {
     "name": "stdout",
     "output_type": "stream",
     "text": [
      "Is Glass more dense than Wood?\n"
     ]
    }
   ],
   "source": [
    "x = \"Glass\"\n",
    "y = \"Wood\"\n",
    "print(\"Is \" + x + \" more dense than \" + y + \"?\")"
   ]
  },
  {
   "cell_type": "code",
   "execution_count": 3,
   "id": "2fa7833e",
   "metadata": {},
   "outputs": [
    {
     "name": "stdout",
     "output_type": "stream",
     "text": [
      "1.0\n"
     ]
    }
   ],
   "source": [
    "print(8 / 4 * 2 / 4)"
   ]
  },
  {
   "cell_type": "code",
   "execution_count": 4,
   "id": "7d353a08",
   "metadata": {},
   "outputs": [
    {
     "name": "stdout",
     "output_type": "stream",
     "text": [
      "0.5\n"
     ]
    }
   ],
   "source": [
    "print(8 / 2 ** 2 / 4.0)"
   ]
  },
  {
   "cell_type": "code",
   "execution_count": null,
   "id": "641ad17f",
   "metadata": {},
   "outputs": [],
   "source": []
  },
  {
   "cell_type": "code",
   "execution_count": 6,
   "id": "19dea58c",
   "metadata": {},
   "outputs": [
    {
     "name": "stdout",
     "output_type": "stream",
     "text": [
      "one\n",
      "five\n"
     ]
    }
   ],
   "source": [
    "x = 1\n",
    "\n",
    "if x == 1:\n",
    "    print(\"one\")\n",
    "elif x == \"1\":\n",
    "    if int(x) > 1:\n",
    "        print(\"two\")\n",
    "    elif int(x) < 1:\n",
    "        print(\"three\")\n",
    "    else:\n",
    "        print(\"four\")\n",
    "        \n",
    "if int(x) == 1:\n",
    "    print(\"five\")\n",
    "else:\n",
    "    print(\"six\")\n"
   ]
  },
  {
   "cell_type": "code",
   "execution_count": null,
   "id": "8c53fb6e",
   "metadata": {},
   "outputs": [],
   "source": []
  },
  {
   "cell_type": "code",
   "execution_count": 7,
   "id": "18182301",
   "metadata": {},
   "outputs": [],
   "source": [
    "my_string = 'I Love Python!'"
   ]
  },
  {
   "cell_type": "code",
   "execution_count": 8,
   "id": "d7df05ef",
   "metadata": {},
   "outputs": [
    {
     "data": {
      "text/plain": [
       "33"
      ]
     },
     "execution_count": 8,
     "metadata": {},
     "output_type": "execute_result"
    }
   ],
   "source": [
    "ord(my_string[-1])"
   ]
  },
  {
   "cell_type": "code",
   "execution_count": 9,
   "id": "6d22f598",
   "metadata": {},
   "outputs": [
    {
     "data": {
      "text/plain": [
       "4"
      ]
     },
     "execution_count": 9,
     "metadata": {},
     "output_type": "execute_result"
    }
   ],
   "source": [
    "len((my_string.split()[1]))"
   ]
  },
  {
   "cell_type": "code",
   "execution_count": 10,
   "id": "1c2308d5",
   "metadata": {},
   "outputs": [
    {
     "data": {
      "text/plain": [
       "['I', 'Love', 'Python!']"
      ]
     },
     "execution_count": 10,
     "metadata": {},
     "output_type": "execute_result"
    }
   ],
   "source": [
    "\n",
    "my_string.split()"
   ]
  },
  {
   "cell_type": "code",
   "execution_count": 11,
   "id": "87d7f83d",
   "metadata": {},
   "outputs": [
    {
     "data": {
      "text/plain": [
       "'Python'"
      ]
     },
     "execution_count": 11,
     "metadata": {},
     "output_type": "execute_result"
    }
   ],
   "source": [
    "my_string[-7:-1]"
   ]
  },
  {
   "cell_type": "code",
   "execution_count": 12,
   "id": "1d1b714a",
   "metadata": {},
   "outputs": [
    {
     "data": {
      "text/plain": [
       "'ntc'"
      ]
     },
     "execution_count": 12,
     "metadata": {},
     "output_type": "execute_result"
    }
   ],
   "source": [
    "x = 'certain'\n",
    "x[::-3]"
   ]
  },
  {
   "cell_type": "code",
   "execution_count": 4,
   "id": "dedb0e28",
   "metadata": {},
   "outputs": [
    {
     "name": "stdout",
     "output_type": "stream",
     "text": [
      "1.0\n"
     ]
    }
   ],
   "source": [
    "x = 7\n",
    "y = 7\n",
    "\n",
    "if x > y:\n",
    "    print(x // y)\n",
    "elif x == y:\n",
    "    print(x / y)\n",
    "else:\n",
    "    print(x % y)\n"
   ]
  },
  {
   "cell_type": "code",
   "execution_count": 5,
   "id": "477475e8",
   "metadata": {},
   "outputs": [
    {
     "name": "stdout",
     "output_type": "stream",
     "text": [
      "3\n"
     ]
    }
   ],
   "source": [
    "x = 7\n",
    "y = 2\n",
    "\n",
    "if x > y:\n",
    "    print(x // y)\n",
    "elif x == y:\n",
    "    print(x / y)\n",
    "else:\n",
    "    print(x % y)\n"
   ]
  },
  {
   "cell_type": "code",
   "execution_count": 6,
   "id": "34742ebb",
   "metadata": {},
   "outputs": [
    {
     "name": "stdout",
     "output_type": "stream",
     "text": [
      "1.0\n"
     ]
    }
   ],
   "source": [
    "x = 7\n",
    "y = 7\n",
    "\n",
    "if x > y:\n",
    "    print(x // y)\n",
    "elif x == y:\n",
    "    print(x / y)\n",
    "else:\n",
    "    print(x % y)\n"
   ]
  },
  {
   "cell_type": "code",
   "execution_count": 7,
   "id": "23f47e4e",
   "metadata": {},
   "outputs": [
    {
     "name": "stdout",
     "output_type": "stream",
     "text": [
      "2\n"
     ]
    }
   ],
   "source": [
    "x = 2\n",
    "y = 7\n",
    "\n",
    "if x > y:\n",
    "    print(x // y)\n",
    "elif x == y:\n",
    "    print(x / y)\n",
    "else:\n",
    "    print(x % y)\n"
   ]
  },
  {
   "cell_type": "code",
   "execution_count": null,
   "id": "90e569f1",
   "metadata": {},
   "outputs": [],
   "source": []
  },
  {
   "cell_type": "code",
   "execution_count": 15,
   "id": "fbe798cf",
   "metadata": {},
   "outputs": [
    {
     "name": "stdout",
     "output_type": "stream",
     "text": [
      "[2, 3, 4]\n"
     ]
    }
   ],
   "source": [
    "print(L[1]+[4])"
   ]
  },
  {
   "cell_type": "code",
   "execution_count": 16,
   "id": "14ae4969",
   "metadata": {},
   "outputs": [
    {
     "name": "stdout",
     "output_type": "stream",
     "text": [
      "None\n"
     ]
    }
   ],
   "source": [
    "L=[1,[2,3],4,[5,6,7]]\n",
    "print(L[1].extend([1]))"
   ]
  },
  {
   "cell_type": "code",
   "execution_count": 17,
   "id": "5810afad",
   "metadata": {},
   "outputs": [
    {
     "name": "stdout",
     "output_type": "stream",
     "text": [
      "ple4.py\n"
     ]
    }
   ],
   "source": [
    "string = \"example4.py\"\n",
    "print(string[4 : ])"
   ]
  },
  {
   "cell_type": "code",
   "execution_count": 18,
   "id": "c407d1e6",
   "metadata": {},
   "outputs": [
    {
     "data": {
      "text/plain": [
       "14"
      ]
     },
     "execution_count": 18,
     "metadata": {},
     "output_type": "execute_result"
    }
   ],
   "source": [
    "str = 'Python is a case-sensitive language' \n",
    "str.find('se')\n"
   ]
  },
  {
   "cell_type": "code",
   "execution_count": 19,
   "id": "39afe7e6",
   "metadata": {},
   "outputs": [
    {
     "data": {
      "text/plain": [
       "'Python is a case-sensitive language'"
      ]
     },
     "execution_count": 19,
     "metadata": {},
     "output_type": "execute_result"
    }
   ],
   "source": [
    "str.replace('Python', 'R', 0)"
   ]
  },
  {
   "cell_type": "code",
   "execution_count": 20,
   "id": "ebf60612",
   "metadata": {},
   "outputs": [
    {
     "data": {
      "text/plain": [
       "'R is a case-sensitive language'"
      ]
     },
     "execution_count": 20,
     "metadata": {},
     "output_type": "execute_result"
    }
   ],
   "source": [
    "str.replace('Python', 'R')"
   ]
  },
  {
   "cell_type": "code",
   "execution_count": 21,
   "id": "c2d00426",
   "metadata": {},
   "outputs": [
    {
     "data": {
      "text/plain": [
       "2"
      ]
     },
     "execution_count": 21,
     "metadata": {},
     "output_type": "execute_result"
    }
   ],
   "source": [
    "str.count('se')"
   ]
  },
  {
   "cell_type": "code",
   "execution_count": 22,
   "id": "177a9b9d",
   "metadata": {},
   "outputs": [
    {
     "name": "stdout",
     "output_type": "stream",
     "text": [
      "p\n"
     ]
    }
   ],
   "source": [
    "string = \"example4.py\"\n",
    "print(string[4])"
   ]
  },
  {
   "cell_type": "code",
   "execution_count": 23,
   "id": "485f2f14",
   "metadata": {},
   "outputs": [
    {
     "name": "stdout",
     "output_type": "stream",
     "text": [
      "xampl\n"
     ]
    }
   ],
   "source": [
    "string = \"example4.py\"\n",
    "print(string[1 : 6])"
   ]
  },
  {
   "cell_type": "code",
   "execution_count": 24,
   "id": "8a0008dd",
   "metadata": {},
   "outputs": [
    {
     "name": "stdout",
     "output_type": "stream",
     "text": [
      "['example', '.py']\n"
     ]
    }
   ],
   "source": [
    "string = \"example4.py\"\n",
    "print(string.split('4'))"
   ]
  },
  {
   "cell_type": "code",
   "execution_count": 1,
   "id": "48790232",
   "metadata": {},
   "outputs": [
    {
     "name": "stdout",
     "output_type": "stream",
     "text": [
      "None\n"
     ]
    }
   ],
   "source": [
    "l=[1,[2,3],4,[5,6,7]]\n",
    "print(l[1].extend([1]))"
   ]
  },
  {
   "cell_type": "code",
   "execution_count": 2,
   "id": "c5928ec7",
   "metadata": {},
   "outputs": [
    {
     "name": "stdout",
     "output_type": "stream",
     "text": [
      "[2, 3, 4]\n"
     ]
    }
   ],
   "source": [
    "l=[1,[2,3],4,[5,6,7]]\n",
    "print(l[1]+[4])"
   ]
  },
  {
   "cell_type": "code",
   "execution_count": 12,
   "id": "46bb048b",
   "metadata": {},
   "outputs": [
    {
     "data": {
      "text/plain": [
       "33"
      ]
     },
     "execution_count": 12,
     "metadata": {},
     "output_type": "execute_result"
    }
   ],
   "source": [
    "my_string = 'I am learning Python!'\n",
    "ord(my_string[-1])"
   ]
  },
  {
   "cell_type": "code",
   "execution_count": 13,
   "id": "570a497a",
   "metadata": {},
   "outputs": [
    {
     "data": {
      "text/plain": [
       "2"
      ]
     },
     "execution_count": 13,
     "metadata": {},
     "output_type": "execute_result"
    }
   ],
   "source": [
    "len((my_string.split()[1]))"
   ]
  },
  {
   "cell_type": "code",
   "execution_count": 14,
   "id": "055395ab",
   "metadata": {},
   "outputs": [
    {
     "data": {
      "text/plain": [
       "['I', 'am', 'learning', 'Python!']"
      ]
     },
     "execution_count": 14,
     "metadata": {},
     "output_type": "execute_result"
    }
   ],
   "source": [
    "my_string.split()"
   ]
  },
  {
   "cell_type": "code",
   "execution_count": 15,
   "id": "6bdc4ce6",
   "metadata": {},
   "outputs": [
    {
     "data": {
      "text/plain": [
       "'Python'"
      ]
     },
     "execution_count": 15,
     "metadata": {},
     "output_type": "execute_result"
    }
   ],
   "source": [
    "my_string[-7:-1]"
   ]
  },
  {
   "cell_type": "code",
   "execution_count": null,
   "id": "b8ddcc16",
   "metadata": {},
   "outputs": [],
   "source": []
  }
 ],
 "metadata": {
  "kernelspec": {
   "display_name": "Python 3 (ipykernel)",
   "language": "python",
   "name": "python3"
  },
  "language_info": {
   "codemirror_mode": {
    "name": "ipython",
    "version": 3
   },
   "file_extension": ".py",
   "mimetype": "text/x-python",
   "name": "python",
   "nbconvert_exporter": "python",
   "pygments_lexer": "ipython3",
   "version": "3.10.9"
  }
 },
 "nbformat": 4,
 "nbformat_minor": 5
}
