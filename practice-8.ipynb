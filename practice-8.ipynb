{
 "cells": [
  {
   "cell_type": "code",
   "execution_count": 4,
   "id": "ed47e500",
   "metadata": {},
   "outputs": [
    {
     "name": "stdout",
     "output_type": "stream",
     "text": [
      "['python', 830]\n",
      "2\n",
      "('python', 830)\n",
      "2\n",
      "('python', 830)\n",
      "2\n"
     ]
    }
   ],
   "source": [
    "example_list = [\"python\",830]\n",
    "example_string = \"python\",830\n",
    "example_tuple = (\"python\",830)\n",
    "\n",
    "print(example_list)\n",
    "print(len(example_list))\n",
    "\n",
    "print(example_string)\n",
    "print(len(example_string))\n",
    "\n",
    "print(example_tuple)\n",
    "print(len(example_tuple))\n"
   ]
  },
  {
   "cell_type": "code",
   "execution_count": 5,
   "id": "d149ed20",
   "metadata": {},
   "outputs": [],
   "source": [
    "#######In summary, tuples are immutable collections, strings are immutable sequences of characters, and lists are mutable collections that can be modified. The choice between them depends on the specific use case and the requirements of your program."
   ]
  },
  {
   "cell_type": "code",
   "execution_count": 10,
   "id": "ef7aeaa7",
   "metadata": {},
   "outputs": [
    {
     "name": "stdout",
     "output_type": "stream",
     "text": [
      "{'Subject': 'CIND', 'Code': 830}\n",
      "CIND\n",
      "830\n",
      "dict_items([('Subject', 'cind'), ('Code', 840)])\n",
      "840\n",
      "3\n",
      "False\n"
     ]
    }
   ],
   "source": [
    "firstDict = {'Subject' : 'CIND','Code' : 830}\n",
    "\n",
    "\n",
    "secondDict = {'Subject' : 'cind','Code' : 840}\n",
    "\n",
    "\n",
    "\n",
    "\n",
    "\n",
    "print(firstDict) \n",
    "print(firstDict['Subject'])\n",
    "print(firstDict.get('Code'))\n",
    "\n",
    "\n",
    "\n",
    "\n",
    "#Adding a Key/Value pair\n",
    "firstDict['Name'] = \"Python\" \n",
    "\n",
    "\n",
    "#Traversing a Dictionary\n",
    "#Removing Keys\n",
    "#Display the number of entities\n",
    "print(secondDict.items())\n",
    "print(secondDict.pop('Code'))\n",
    "\n",
    "print(len(firstDict))\n",
    "\n",
    "print(firstDict['Subject'] == secondDict['Subject'])#Comparevlaues"
   ]
  },
  {
   "cell_type": "code",
   "execution_count": 12,
   "id": "ee939cd1",
   "metadata": {},
   "outputs": [
    {
     "name": "stdout",
     "output_type": "stream",
     "text": [
      "{'Subject': 'CIND', 'Code': 830}\n",
      "2\n"
     ]
    }
   ],
   "source": [
    "firstDict = {'Subject' : 'CIND','Code' : 830}\n",
    "print(firstDict) \n",
    "print(len(firstDict))"
   ]
  },
  {
   "cell_type": "code",
   "execution_count": 19,
   "id": "aff14596",
   "metadata": {},
   "outputs": [
    {
     "name": "stdout",
     "output_type": "stream",
     "text": [
      "{'Subject': 'CIND', 'Code': 830}\n",
      "CIND\n",
      "830\n"
     ]
    }
   ],
   "source": [
    "firstDict = {'Subject' : 'CIND','Code' : 830}\n",
    "secondDict = {'Subject' : 'cind','Code' : 840}\n",
    "\n",
    "\n",
    "print(firstDict) \n",
    "\n",
    "print(firstDict['Subject'])\n",
    "\n",
    "print(firstDict['Code'])"
   ]
  },
  {
   "cell_type": "code",
   "execution_count": 21,
   "id": "c0c26f97",
   "metadata": {},
   "outputs": [
    {
     "name": "stdout",
     "output_type": "stream",
     "text": [
      "830\n",
      "CIND\n"
     ]
    }
   ],
   "source": [
    "print(firstDict.get('Code'))\n",
    "print(firstDict.get('Subject'))"
   ]
  },
  {
   "cell_type": "code",
   "execution_count": 17,
   "id": "fa751141",
   "metadata": {},
   "outputs": [
    {
     "name": "stdout",
     "output_type": "stream",
     "text": [
      "830\n"
     ]
    }
   ],
   "source": [
    "print(firstDict['Code'])"
   ]
  },
  {
   "cell_type": "code",
   "execution_count": 23,
   "id": "5e247c87",
   "metadata": {},
   "outputs": [
    {
     "name": "stdout",
     "output_type": "stream",
     "text": [
      "{'Subject': 'CIND', 'Code': 830, 'Name': 'Python'}\n",
      "3\n"
     ]
    }
   ],
   "source": [
    "### how to add value to dictionary\n",
    "\n",
    "\n",
    "firstDict = {'Subject' : 'CIND','Code' : 830}\n",
    "#Adding a Key/Value pair\n",
    "\n",
    "firstDict['Name'] = \"Python\"\n",
    "print(firstDict)\n",
    "print(len(firstDict))"
   ]
  },
  {
   "cell_type": "code",
   "execution_count": 24,
   "id": "bb0073e2",
   "metadata": {},
   "outputs": [
    {
     "name": "stdout",
     "output_type": "stream",
     "text": [
      "name : John Doe\n",
      "age : 30\n",
      "city : New York\n"
     ]
    }
   ],
   "source": [
    "# Example dictionary\n",
    "person = {\n",
    "    \"name\": \"John Doe\",\n",
    "    \"age\": 30,\n",
    "    \"city\": \"New York\"\n",
    "}\n",
    "\n",
    "# Traversing the dictionary\n",
    "for key, value in person.items():\n",
    "    print(key, \":\", value)\n"
   ]
  },
  {
   "cell_type": "code",
   "execution_count": 25,
   "id": "a2962a8e",
   "metadata": {},
   "outputs": [
    {
     "name": "stdout",
     "output_type": "stream",
     "text": [
      "dict_items([('Subject', 'cind'), ('Code', 840)])\n"
     ]
    }
   ],
   "source": [
    "secondDict = {'Subject' : 'cind','Code' : 840}\n",
    "#Traversing a Dictionary\n",
    "print(secondDict.items())"
   ]
  },
  {
   "cell_type": "code",
   "execution_count": 26,
   "id": "9c8e7b24",
   "metadata": {},
   "outputs": [
    {
     "name": "stdout",
     "output_type": "stream",
     "text": [
      "Subject : cind\n",
      "Code : 840\n"
     ]
    }
   ],
   "source": [
    "secondDict = {'Subject' : 'cind','Code' : 840}\n",
    "for key, value in secondDict.items():\n",
    "    print(key, \":\", value)"
   ]
  },
  {
   "cell_type": "code",
   "execution_count": 27,
   "id": "a9d9e3d8",
   "metadata": {},
   "outputs": [
    {
     "name": "stdout",
     "output_type": "stream",
     "text": [
      "CIND\n"
     ]
    }
   ],
   "source": [
    "Dict = {'Subject' : 'CIND', 'Code' : [830, 'X10']}\n",
    "\n",
    "print(Dict.get('Subject', '830'))"
   ]
  },
  {
   "cell_type": "code",
   "execution_count": 28,
   "id": "2ac4b801",
   "metadata": {},
   "outputs": [
    {
     "name": "stdout",
     "output_type": "stream",
     "text": [
      "None\n"
     ]
    }
   ],
   "source": [
    "L = [1, [2, 3], 4, [5, 6, 7]]\n",
    "\n",
    "print(L[1].extend([1]))"
   ]
  },
  {
   "cell_type": "code",
   "execution_count": 29,
   "id": "b76aed5a",
   "metadata": {},
   "outputs": [
    {
     "name": "stdout",
     "output_type": "stream",
     "text": [
      "4\n"
     ]
    }
   ],
   "source": [
    "L = [1, [2, 3], 4, [5, 6, 7]]\n",
    "print(len(L))"
   ]
  },
  {
   "cell_type": "code",
   "execution_count": 30,
   "id": "6e953171",
   "metadata": {},
   "outputs": [
    {
     "name": "stdout",
     "output_type": "stream",
     "text": [
      "[2, 3]\n"
     ]
    }
   ],
   "source": [
    "print(L[1])"
   ]
  },
  {
   "cell_type": "code",
   "execution_count": 31,
   "id": "4470b40e",
   "metadata": {},
   "outputs": [
    {
     "name": "stdout",
     "output_type": "stream",
     "text": [
      "[5, 6, 7]\n"
     ]
    }
   ],
   "source": [
    "print(L[3])"
   ]
  },
  {
   "cell_type": "code",
   "execution_count": 34,
   "id": "95688358",
   "metadata": {},
   "outputs": [
    {
     "name": "stdout",
     "output_type": "stream",
     "text": [
      "1\n"
     ]
    }
   ],
   "source": [
    "\n",
    "print(L[0])"
   ]
  },
  {
   "cell_type": "code",
   "execution_count": 35,
   "id": "addee33b",
   "metadata": {},
   "outputs": [],
   "source": [
    "##### The extend() method modifies a list by appending all the elements from another iterable to the end of the list. However, the extend() method doesn't return anything; it modifies the list in place."
   ]
  },
  {
   "cell_type": "code",
   "execution_count": 36,
   "id": "461aa475",
   "metadata": {},
   "outputs": [
    {
     "name": "stdout",
     "output_type": "stream",
     "text": [
      "None\n"
     ]
    }
   ],
   "source": [
    "L = [1, [2, 3], 4, [5, 6, 7]]\n",
    "\n",
    "print(L[1].extend([1]))"
   ]
  },
  {
   "cell_type": "code",
   "execution_count": 37,
   "id": "656d01d7",
   "metadata": {},
   "outputs": [
    {
     "name": "stdout",
     "output_type": "stream",
     "text": [
      "X10\n"
     ]
    }
   ],
   "source": [
    "Dict = {'Subject' : 'CIND', 'Code' : [830, 'X10']}\n",
    "\n",
    "print(Dict['Code'][1])"
   ]
  },
  {
   "cell_type": "code",
   "execution_count": 38,
   "id": "74aa7a75",
   "metadata": {
    "scrolled": true
   },
   "outputs": [
    {
     "ename": "AttributeError",
     "evalue": "'tuple' object has no attribute 'append'",
     "output_type": "error",
     "traceback": [
      "\u001b[0;31m---------------------------------------------------------------------------\u001b[0m",
      "\u001b[0;31mAttributeError\u001b[0m                            Traceback (most recent call last)",
      "Cell \u001b[0;32mIn[38], line 2\u001b[0m\n\u001b[1;32m      1\u001b[0m mystVar \u001b[38;5;241m=\u001b[39m (\u001b[38;5;241m1\u001b[39m,\u001b[38;5;241m2\u001b[39m,\u001b[38;5;241m3\u001b[39m)\n\u001b[0;32m----> 2\u001b[0m \u001b[43mmystVar\u001b[49m\u001b[38;5;241;43m.\u001b[39;49m\u001b[43mappend\u001b[49m(\u001b[38;5;241m4\u001b[39m)\n\u001b[1;32m      3\u001b[0m \u001b[38;5;28mprint\u001b[39m(mystVa)\n",
      "\u001b[0;31mAttributeError\u001b[0m: 'tuple' object has no attribute 'append'"
     ]
    }
   ],
   "source": [
    "####mystVar.append(4) would result in an AttributeError because the append operation is not valid for tuples in Python. Tuples are immutable, meaning the user can’t add or remove elements after they’ve been created.\n",
    "\n",
    "\n",
    "\n",
    "mystVar = (1,2,3)\n",
    "mystVar.append(4)\n",
    "print(mystVa)"
   ]
  },
  {
   "cell_type": "code",
   "execution_count": null,
   "id": "58fd9af4",
   "metadata": {},
   "outputs": [],
   "source": []
  },
  {
   "cell_type": "code",
   "execution_count": 39,
   "id": "22153e48",
   "metadata": {},
   "outputs": [
    {
     "ename": "TypeError",
     "evalue": "can only concatenate tuple (not \"int\") to tuple",
     "output_type": "error",
     "traceback": [
      "\u001b[0;31m---------------------------------------------------------------------------\u001b[0m",
      "\u001b[0;31mTypeError\u001b[0m                                 Traceback (most recent call last)",
      "Cell \u001b[0;32mIn[39], line 3\u001b[0m\n\u001b[1;32m      1\u001b[0m mystVar1 \u001b[38;5;241m=\u001b[39m (\u001b[38;5;241m1\u001b[39m, \u001b[38;5;241m2\u001b[39m, \u001b[38;5;241m3\u001b[39m)\n\u001b[1;32m      2\u001b[0m mystVar2 \u001b[38;5;241m=\u001b[39m (\u001b[38;5;241m4\u001b[39m)\n\u001b[0;32m----> 3\u001b[0m \u001b[38;5;28mprint\u001b[39m(\u001b[43mmystVar1\u001b[49m\u001b[43m \u001b[49m\u001b[38;5;241;43m+\u001b[39;49m\u001b[43m \u001b[49m\u001b[43mmystVar2\u001b[49m)\n",
      "\u001b[0;31mTypeError\u001b[0m: can only concatenate tuple (not \"int\") to tuple"
     ]
    }
   ],
   "source": [
    "###print(mystVar1 + mystVar2) would result in TypeError because to concatenate tuples, both variables need to be tuples. However, mystVar2 is an integer in this case, not a tuple. It should be written as mystVar2 = (4,). So, trying to concatenate a tuple with an integer results in a TypeError.\n",
    "\n",
    "\n",
    "\n",
    "mystVar1 = (1, 2, 3)\n",
    "mystVar2 = (4)\n",
    "print(mystVar1 + mystVar2)"
   ]
  },
  {
   "cell_type": "code",
   "execution_count": 40,
   "id": "bd4d2466",
   "metadata": {},
   "outputs": [
    {
     "name": "stdout",
     "output_type": "stream",
     "text": [
      "[1, 2]\n"
     ]
    }
   ],
   "source": [
    "###print(mystVar) will output [1, 2] in this case, as the remove operation will delete the element 3 from the list mystVar, and the code would be executed without errors.\n",
    "\n",
    "\n",
    "mystVar = [1, 2, 3]\n",
    "mystVar.remove(3)\n",
    "print(mystVar)"
   ]
  },
  {
   "cell_type": "code",
   "execution_count": 44,
   "id": "27ef7702",
   "metadata": {},
   "outputs": [
    {
     "ename": "KeyError",
     "evalue": "4",
     "output_type": "error",
     "traceback": [
      "\u001b[0;31m---------------------------------------------------------------------------\u001b[0m",
      "\u001b[0;31mKeyError\u001b[0m                                  Traceback (most recent call last)",
      "Cell \u001b[0;32mIn[44], line 2\u001b[0m\n\u001b[1;32m      1\u001b[0m mystVar \u001b[38;5;241m=\u001b[39m { \u001b[38;5;241m1\u001b[39m : \u001b[38;5;241m2\u001b[39m, \u001b[38;5;241m3\u001b[39m : \u001b[38;5;241m4\u001b[39m, \u001b[38;5;241m5\u001b[39m : \u001b[38;5;241m6\u001b[39m }\n\u001b[0;32m----> 2\u001b[0m \u001b[38;5;28mprint\u001b[39m(\u001b[43mmystVar\u001b[49m\u001b[43m[\u001b[49m\u001b[38;5;241;43m4\u001b[39;49m\u001b[43m]\u001b[49m)\n",
      "\u001b[0;31mKeyError\u001b[0m: 4"
     ]
    }
   ],
   "source": [
    "###print(mystVar[4]) would result in a KeyError, because there is no key 4 in the dictionary mystVar. The keys in this dictionary are 1, 3, and 5. In Python, attempting to access a dictionary with a key that doesn’t exist raises a KeyError.\n",
    "\n",
    "\n",
    "mystVar = { 1 : 2, 3 : 4, 5 : 6 }\n",
    "print(mystVar[4])"
   ]
  },
  {
   "cell_type": "code",
   "execution_count": 45,
   "id": "025018d7",
   "metadata": {},
   "outputs": [
    {
     "data": {
      "text/plain": [
       "2"
      ]
     },
     "execution_count": 45,
     "metadata": {},
     "output_type": "execute_result"
    }
   ],
   "source": [
    "strPy = 'Is Python a case-sensitive language?'\n",
    "strPy.count('se')"
   ]
  },
  {
   "cell_type": "code",
   "execution_count": 46,
   "id": "edcc3cb8",
   "metadata": {},
   "outputs": [
    {
     "data": {
      "text/plain": [
       "'Is R a case-sensitive language?'"
      ]
     },
     "execution_count": 46,
     "metadata": {},
     "output_type": "execute_result"
    }
   ],
   "source": [
    "strPy.replace('Python', 'R')"
   ]
  },
  {
   "cell_type": "code",
   "execution_count": 47,
   "id": "66a773b9",
   "metadata": {},
   "outputs": [
    {
     "data": {
      "text/plain": [
       "'Is Python a case-sensitive language?'"
      ]
     },
     "execution_count": 47,
     "metadata": {},
     "output_type": "execute_result"
    }
   ],
   "source": [
    "strPy.replace('Python', 'R', 0)"
   ]
  },
  {
   "cell_type": "code",
   "execution_count": 48,
   "id": "80698141",
   "metadata": {},
   "outputs": [
    {
     "data": {
      "text/plain": [
       "14"
      ]
     },
     "execution_count": 48,
     "metadata": {},
     "output_type": "execute_result"
    }
   ],
   "source": [
    "strPy.find('se')"
   ]
  },
  {
   "cell_type": "code",
   "execution_count": 49,
   "id": "45ffabb5",
   "metadata": {},
   "outputs": [
    {
     "data": {
      "text/plain": [
       "14"
      ]
     },
     "execution_count": 49,
     "metadata": {},
     "output_type": "execute_result"
    }
   ],
   "source": [
    "strPy.index('se')"
   ]
  },
  {
   "cell_type": "code",
   "execution_count": 50,
   "id": "5e8d9007",
   "metadata": {},
   "outputs": [
    {
     "data": {
      "text/plain": [
       "['Is Python a case', 'sensitive language?']"
      ]
     },
     "execution_count": 50,
     "metadata": {},
     "output_type": "execute_result"
    }
   ],
   "source": [
    "strPy.split('-')"
   ]
  },
  {
   "cell_type": "code",
   "execution_count": 51,
   "id": "697f7f9c",
   "metadata": {},
   "outputs": [
    {
     "name": "stdout",
     "output_type": "stream",
     "text": [
      "7\n"
     ]
    }
   ],
   "source": [
    "numbers = [1, 2, 3, 4, 5]\n",
    "\n",
    "sum = 0;\n",
    "i = 1\n",
    "\n",
    "while i <= 5:\n",
    "\n",
    "    sum += i\n",
    "\n",
    "    i += i\n",
    "\n",
    "    continue\n",
    "\n",
    "print(sum)"
   ]
  },
  {
   "cell_type": "code",
   "execution_count": 52,
   "id": "7b0f05a4",
   "metadata": {},
   "outputs": [
    {
     "name": "stdout",
     "output_type": "stream",
     "text": [
      "15\n"
     ]
    }
   ],
   "source": [
    "## corrected code\n",
    "numbers = [1, 2, 3, 4, 5]\n",
    "sum = 0\n",
    "i = 0\n",
    "\n",
    "while i < len(numbers):\n",
    "    sum += numbers[i]\n",
    "    i += 1\n",
    "\n",
    "print(sum)\n"
   ]
  },
  {
   "cell_type": "code",
   "execution_count": 53,
   "id": "1233e29b",
   "metadata": {},
   "outputs": [
    {
     "data": {
      "text/plain": [
       "False"
      ]
     },
     "execution_count": 53,
     "metadata": {},
     "output_type": "execute_result"
    }
   ],
   "source": [
    "iStr = uStr = '0, 1, 2'\n",
    "iList = uList = [0, 1, 2]\n",
    "iDict = uDict = {0:2}\n",
    "iTupl = uTupl = (0,1,2)\n",
    " \n",
    "iStr = iStr + ', 3'\n",
    "iList.append( [3] )\n",
    "iDict[1] = 3\n",
    "iTupl = iTupl + (3,)\n",
    "iStr is uStr"
   ]
  },
  {
   "cell_type": "code",
   "execution_count": 54,
   "id": "26ca09a9",
   "metadata": {},
   "outputs": [
    {
     "data": {
      "text/plain": [
       "True"
      ]
     },
     "execution_count": 54,
     "metadata": {},
     "output_type": "execute_result"
    }
   ],
   "source": [
    "iList is uList "
   ]
  },
  {
   "cell_type": "code",
   "execution_count": 55,
   "id": "15bb833e",
   "metadata": {},
   "outputs": [
    {
     "data": {
      "text/plain": [
       "False"
      ]
     },
     "execution_count": 55,
     "metadata": {},
     "output_type": "execute_result"
    }
   ],
   "source": [
    "iTupl is uTupl"
   ]
  },
  {
   "cell_type": "code",
   "execution_count": 56,
   "id": "3a2cbc55",
   "metadata": {},
   "outputs": [
    {
     "data": {
      "text/plain": [
       "True"
      ]
     },
     "execution_count": 56,
     "metadata": {},
     "output_type": "execute_result"
    }
   ],
   "source": [
    "\n",
    "iDict is uDict\n"
   ]
  },
  {
   "cell_type": "code",
   "execution_count": 57,
   "id": "d468926a",
   "metadata": {},
   "outputs": [
    {
     "data": {
      "text/plain": [
       "False"
      ]
     },
     "execution_count": 57,
     "metadata": {},
     "output_type": "execute_result"
    }
   ],
   "source": [
    "Dict == uDict"
   ]
  },
  {
   "cell_type": "code",
   "execution_count": 58,
   "id": "9e74a328",
   "metadata": {},
   "outputs": [
    {
     "data": {
      "text/plain": [
       "True"
      ]
     },
     "execution_count": 58,
     "metadata": {},
     "output_type": "execute_result"
    }
   ],
   "source": [
    "iDict[0] == iList[2]"
   ]
  },
  {
   "cell_type": "code",
   "execution_count": 59,
   "id": "52461cf4",
   "metadata": {},
   "outputs": [
    {
     "data": {
      "text/plain": [
       "False"
      ]
     },
     "execution_count": 59,
     "metadata": {},
     "output_type": "execute_result"
    }
   ],
   "source": [
    "iList[3] == iTupl[3]"
   ]
  },
  {
   "cell_type": "code",
   "execution_count": 63,
   "id": "f84d78df",
   "metadata": {},
   "outputs": [
    {
     "data": {
      "text/plain": [
       "[9, 8]"
      ]
     },
     "execution_count": 63,
     "metadata": {},
     "output_type": "execute_result"
    }
   ],
   "source": [
    "iList = [6, 7, 8, 9]\n",
    "iList[ : 1 : -1]"
   ]
  },
  {
   "cell_type": "code",
   "execution_count": 64,
   "id": "bd2ee9df",
   "metadata": {},
   "outputs": [
    {
     "data": {
      "text/plain": [
       "2"
      ]
     },
     "execution_count": 64,
     "metadata": {},
     "output_type": "execute_result"
    }
   ],
   "source": [
    "strPy = 'Is Python a case-sensitive language?'\n",
    "strPy.count('se')"
   ]
  },
  {
   "cell_type": "code",
   "execution_count": 65,
   "id": "87ecf8a8",
   "metadata": {},
   "outputs": [
    {
     "data": {
      "text/plain": [
       "'Is R a case-sensitive language?'"
      ]
     },
     "execution_count": 65,
     "metadata": {},
     "output_type": "execute_result"
    }
   ],
   "source": [
    "strPy.replace('Python', 'R') "
   ]
  },
  {
   "cell_type": "code",
   "execution_count": 66,
   "id": "189e5a83",
   "metadata": {},
   "outputs": [
    {
     "data": {
      "text/plain": [
       "'Is Python a case-sensitive language?'"
      ]
     },
     "execution_count": 66,
     "metadata": {},
     "output_type": "execute_result"
    }
   ],
   "source": [
    "strPy.replace('Python', 'R', 0)"
   ]
  },
  {
   "cell_type": "code",
   "execution_count": 67,
   "id": "b3480667",
   "metadata": {},
   "outputs": [
    {
     "data": {
      "text/plain": [
       "['Is Python a case', 'sensitive language?']"
      ]
     },
     "execution_count": 67,
     "metadata": {},
     "output_type": "execute_result"
    }
   ],
   "source": [
    "strPy.split('-') "
   ]
  },
  {
   "cell_type": "code",
   "execution_count": 69,
   "id": "7904515e",
   "metadata": {},
   "outputs": [
    {
     "name": "stdout",
     "output_type": "stream",
     "text": [
      "Enter a value for x: 0\n",
      "six\n"
     ]
    }
   ],
   "source": [
    "x = input(\"Enter a value for x: \")\n",
    "\n",
    "if x == \"1\":\n",
    "    print(\"one\")\n",
    "elif x == \"1\":\n",
    "    if int(x) > 1:\n",
    "        print(\"two\")\n",
    "    elif int(x) < 1:\n",
    "        print(\"three\")\n",
    "    else:\n",
    "        print(\"four\")\n",
    "if int(x) == 1:\n",
    "    print(\"five\")\n",
    "else:\n",
    "    print(\"six\")\n"
   ]
  },
  {
   "cell_type": "code",
   "execution_count": 70,
   "id": "b1e947d1",
   "metadata": {},
   "outputs": [
    {
     "data": {
      "text/plain": [
       "'ntc'"
      ]
     },
     "execution_count": 70,
     "metadata": {},
     "output_type": "execute_result"
    }
   ],
   "source": [
    "x = 'certain'\n",
    "x[::-3]"
   ]
  },
  {
   "cell_type": "code",
   "execution_count": 71,
   "id": "4cac5622",
   "metadata": {},
   "outputs": [
    {
     "data": {
      "text/plain": [
       "33"
      ]
     },
     "execution_count": 71,
     "metadata": {},
     "output_type": "execute_result"
    }
   ],
   "source": [
    "my_string = 'I Love Python!'\n",
    "ord(my_string[-1])"
   ]
  },
  {
   "cell_type": "code",
   "execution_count": 72,
   "id": "1ffd8090",
   "metadata": {},
   "outputs": [
    {
     "data": {
      "text/plain": [
       "'Python'"
      ]
     },
     "execution_count": 72,
     "metadata": {},
     "output_type": "execute_result"
    }
   ],
   "source": [
    "my_string[-7:-1]"
   ]
  },
  {
   "cell_type": "code",
   "execution_count": null,
   "id": "4b9b2061",
   "metadata": {},
   "outputs": [],
   "source": [
    "num = 1000\n",
    "\n",
    "while num >= 1:\n",
    "    num = num / 10\n",
    "\n",
    "# Line 3\n",
    "\n",
    "while num >= 1:\n",
    "    num = num / 10\n",
    "\n",
    "while num >= 1:\n",
    "    # Line 5\n",
    "    num = num / 10\n",
    "\n",
    "# Line 7\n",
    "###Therefore, the answers are:\n",
    "Blank #1: 4\n",
    "Blank #2: 4\n",
    "Blank #3: 0.1\n"
   ]
  },
  {
   "cell_type": "code",
   "execution_count": null,
   "id": "0991dd74",
   "metadata": {},
   "outputs": [],
   "source": [
    "i = 1\n",
    "while i <= 4 :\n",
    "    j = 0\n",
    "    while  j <= 3 :\n",
    "        k = 0\n",
    "        while  k <= 5 :\n",
    "            print(i*j*k, end=\" \")\n",
    "            k += 1\n",
    "        print()\n",
    "        j += 1\n",
    "    print()\n",
    "    i += 1"
   ]
  },
  {
   "cell_type": "code",
   "execution_count": null,
   "id": "f3aab001",
   "metadata": {},
   "outputs": [],
   "source": []
  }
 ],
 "metadata": {
  "kernelspec": {
   "display_name": "Python 3 (ipykernel)",
   "language": "python",
   "name": "python3"
  },
  "language_info": {
   "codemirror_mode": {
    "name": "ipython",
    "version": 3
   },
   "file_extension": ".py",
   "mimetype": "text/x-python",
   "name": "python",
   "nbconvert_exporter": "python",
   "pygments_lexer": "ipython3",
   "version": "3.10.9"
  }
 },
 "nbformat": 4,
 "nbformat_minor": 5
}
