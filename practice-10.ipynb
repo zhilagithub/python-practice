{
 "cells": [
  {
   "cell_type": "code",
   "execution_count": null,
   "id": "eb8a5eee",
   "metadata": {},
   "outputs": [],
   "source": []
  },
  {
   "cell_type": "code",
   "execution_count": 6,
   "id": "8f0a7a06",
   "metadata": {},
   "outputs": [
    {
     "name": "stdout",
     "output_type": "stream",
     "text": [
      "720\n"
     ]
    }
   ],
   "source": [
    "#### n! \n",
    "\n",
    "def factorial(n):\n",
    "    if n == 0 or n == 1:\n",
    "        return 1\n",
    "    else:\n",
    "        return n * factorial(n - 1)\n",
    "\n",
    "n = 6\n",
    "result = factorial(n)\n",
    "print(result)  \n"
   ]
  },
  {
   "cell_type": "code",
   "execution_count": 2,
   "id": "1e2b31d3",
   "metadata": {},
   "outputs": [
    {
     "name": "stdout",
     "output_type": "stream",
     "text": [
      "120\n"
     ]
    }
   ],
   "source": [
    "### write the code in python to calculate simple factorial\n",
    "\n",
    "\n",
    "##### for example : 5 * 4 * 3 * 2 * 1 = 120\n",
    "    \n",
    "    def factorial(n):\n",
    "        if n == 0 or n == 1:\n",
    "            return 1\n",
    "        else:\n",
    "            return n * factorial(n - 1)\n",
    "result = factorial(5)\n",
    "print(result)  \n",
    "        "
   ]
  },
  {
   "cell_type": "code",
   "execution_count": 7,
   "id": "46a18a3b",
   "metadata": {},
   "outputs": [
    {
     "name": "stdout",
     "output_type": "stream",
     "text": [
      "6\n"
     ]
    }
   ],
   "source": [
    "####  C(row, column) = row! / (column! * (row - column)!)\n",
    "\n",
    "\n",
    "\n",
    "\n",
    "import math\n",
    "\n",
    "def find_c (row, column):\n",
    "    coefficient = math.factorial(row) // (math.factorial(column) * math.factorial(row - column))\n",
    "    return coefficient\n",
    "\n",
    "# Example usage\n",
    "#row = 4\n",
    "#column = 2\n",
    "#result = pascal_triangle(row, column)\n",
    "#print(result)  # Output: 6\n",
    "\n",
    "\n",
    "print(find_c(4,2))"
   ]
  },
  {
   "cell_type": "code",
   "execution_count": 8,
   "id": "7dfeea9f",
   "metadata": {},
   "outputs": [
    {
     "name": "stdout",
     "output_type": "stream",
     "text": [
      "     1 \n",
      "    1 1 \n",
      "   1 2 1 \n",
      "  1 3 3 1 \n",
      " 1 4 6 4 1 \n",
      "1 5 10 10 5 1 \n"
     ]
    }
   ],
   "source": [
    "### solution 1\n",
    "\n",
    "\n",
    "def print_pascal_triangle(num_rows):\n",
    "    for row in range(num_rows):\n",
    "        # Print leading spaces for each row\n",
    "        for _ in range(num_rows - row - 1):\n",
    "            print(\" \", end=\"\")\n",
    "        \n",
    "        # Calculate and print coefficients for each column in the current row\n",
    "        coefficient = 1\n",
    "        for column in range(row + 1):\n",
    "            print(coefficient, end=\" \")\n",
    "            coefficient = coefficient * (row - column) // (column + 1)\n",
    "        \n",
    "        # Move to the next line after printing each row\n",
    "        print()\n",
    "\n",
    "# Example usage\n",
    "num_rows = 6\n",
    "print_pascal_triangle(num_rows)\n"
   ]
  },
  {
   "cell_type": "code",
   "execution_count": 9,
   "id": "7587d4bd",
   "metadata": {},
   "outputs": [
    {
     "name": "stdout",
     "output_type": "stream",
     "text": [
      "     1 \n",
      "    1 1 \n",
      "   1 2 1 \n",
      "  1 3 3 1 \n",
      " 1 4 6 4 1 \n",
      "1 5 10 10 5 1 \n"
     ]
    }
   ],
   "source": [
    "print_pascal_triangle(6)"
   ]
  },
  {
   "cell_type": "code",
   "execution_count": 12,
   "id": "6d688378",
   "metadata": {},
   "outputs": [
    {
     "name": "stdout",
     "output_type": "stream",
     "text": [
      "     1 \n",
      "    1 1 \n",
      "   1 2 1 \n",
      "  1 3 3 1 \n",
      " 1 4 6 4 1 \n",
      "1 5 10 10 5 1 \n"
     ]
    }
   ],
   "source": [
    "### solution 2\n",
    "\n",
    "\n",
    "### ANSWER HERE\n",
    "def print_pascal_triangle(n):\n",
    "    triangle = []\n",
    "    for i in range(n):\n",
    "        row = [1]  # First element of each row is always 1\n",
    "        if i > 0:\n",
    "            prev_row = triangle[i - 1]\n",
    "            for j in range(i - 1):\n",
    "                row.append(prev_row[j] + prev_row[j + 1])  # Compute middle elements\n",
    "            row.append(1)  # Last element of each row is always 1\n",
    "        triangle.append(row)\n",
    "\n",
    "    # Display the triangle\n",
    "    for row in triangle:\n",
    "        # Print spaces for formatting\n",
    "        print(\" \" * (n - len(row)), end=\"\")\n",
    "\n",
    "        # Print elements of the row\n",
    "        for num in row:\n",
    "            print(num, end=\" \")\n",
    "\n",
    "        print()  # Move to the next line\n",
    "\n",
    "\n",
    "# Example usage\n",
    "print_pascal_triangle(6)\n"
   ]
  },
  {
   "cell_type": "code",
   "execution_count": 11,
   "id": "76f32543",
   "metadata": {},
   "outputs": [
    {
     "name": "stdout",
     "output_type": "stream",
     "text": [
      "     1 \n",
      "    1 1 \n",
      "   1 2 1 \n",
      "  1 3 3 1 \n",
      " 1 4 6 4 1 \n",
      "1 5 10 10 5 1 \n"
     ]
    }
   ],
   "source": [
    "#### solution 3###############BEST SOLUTION ##############\n",
    "\n",
    "\n",
    "def print_pattern(rows):\n",
    "    for i in range(rows):\n",
    "        # Print spaces\n",
    "        for j in range(rows - i - 1):\n",
    "            print(\" \", end=\"\")\n",
    "        \n",
    "        # Print numbers\n",
    "        num = 1\n",
    "        for j in range(i + 1):\n",
    "            print(num, end=\" \")\n",
    "            num = num * (i - j) // (j + 1)\n",
    "        \n",
    "        # Move to the next line\n",
    "        print()\n",
    "\n",
    "rows = 6\n",
    "print_pattern(rows)\n"
   ]
  },
  {
   "cell_type": "code",
   "execution_count": 14,
   "id": "e2474a57",
   "metadata": {},
   "outputs": [
    {
     "name": "stdout",
     "output_type": "stream",
     "text": [
      "1 6 15 20 15 6 \n",
      " 1 5 10 10 5 \n",
      "  1 4 6 4 \n",
      "   1 3 3 \n",
      "    1 2 \n",
      "     1 \n"
     ]
    }
   ],
   "source": [
    "def print_pattern(rows):\n",
    "    for i in range(rows):\n",
    "        # Print spaces\n",
    "        for j in range(i):\n",
    "            print(\" \", end=\"\")\n",
    "        \n",
    "        # Print numbers\n",
    "        num = 1\n",
    "        for j in range(rows - i):\n",
    "            print(num, end=\" \")\n",
    "            num = num * (rows - i - j) // (j + 1)\n",
    "        \n",
    "        # Move to the next line\n",
    "        print()\n",
    "\n",
    "rows = 6\n",
    "print_pattern(rows)\n"
   ]
  },
  {
   "cell_type": "code",
   "execution_count": null,
   "id": "80927122",
   "metadata": {},
   "outputs": [],
   "source": []
  }
 ],
 "metadata": {
  "kernelspec": {
   "display_name": "Python 3 (ipykernel)",
   "language": "python",
   "name": "python3"
  },
  "language_info": {
   "codemirror_mode": {
    "name": "ipython",
    "version": 3
   },
   "file_extension": ".py",
   "mimetype": "text/x-python",
   "name": "python",
   "nbconvert_exporter": "python",
   "pygments_lexer": "ipython3",
   "version": "3.10.9"
  }
 },
 "nbformat": 4,
 "nbformat_minor": 5
}
